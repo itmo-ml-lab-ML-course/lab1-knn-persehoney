{
 "cells": [
  {
   "cell_type": "markdown",
   "source": [
    "# Utils"
   ],
   "metadata": {
    "collapsed": false
   },
   "id": "211ec0495b7e723c"
  },
  {
   "cell_type": "code",
   "execution_count": 1,
   "id": "initial_id",
   "metadata": {
    "collapsed": true,
    "ExecuteTime": {
     "end_time": "2024-03-12T18:43:34.006497650Z",
     "start_time": "2024-03-12T18:43:27.937822007Z"
    }
   },
   "outputs": [
    {
     "name": "stdout",
     "output_type": "stream",
     "text": [
      "Requirement already satisfied: scikit-learn in /Library/Frameworks/Python.framework/Versions/3.11/lib/python3.11/site-packages (1.4.1.post1)\r\n",
      "Requirement already satisfied: numpy<2.0,>=1.19.5 in /Library/Frameworks/Python.framework/Versions/3.11/lib/python3.11/site-packages (from scikit-learn) (1.26.0)\r\n",
      "Requirement already satisfied: scipy>=1.6.0 in /Library/Frameworks/Python.framework/Versions/3.11/lib/python3.11/site-packages (from scikit-learn) (1.11.3)\r\n",
      "Requirement already satisfied: joblib>=1.2.0 in /Library/Frameworks/Python.framework/Versions/3.11/lib/python3.11/site-packages (from scikit-learn) (1.3.2)\r\n",
      "Requirement already satisfied: threadpoolctl>=2.0.0 in /Library/Frameworks/Python.framework/Versions/3.11/lib/python3.11/site-packages (from scikit-learn) (3.2.0)\r\n",
      "\r\n",
      "\u001B[1m[\u001B[0m\u001B[34;49mnotice\u001B[0m\u001B[1;39;49m]\u001B[0m\u001B[39;49m A new release of pip is available: \u001B[0m\u001B[31;49m23.3.1\u001B[0m\u001B[39;49m -> \u001B[0m\u001B[32;49m24.0\u001B[0m\r\n",
      "\u001B[1m[\u001B[0m\u001B[34;49mnotice\u001B[0m\u001B[1;39;49m]\u001B[0m\u001B[39;49m To update, run: \u001B[0m\u001B[32;49mpip install --upgrade pip\u001B[0m\r\n",
      "Requirement already satisfied: pandas in /Library/Frameworks/Python.framework/Versions/3.11/lib/python3.11/site-packages (2.1.2)\r\n",
      "Requirement already satisfied: numpy<2,>=1.23.2 in /Library/Frameworks/Python.framework/Versions/3.11/lib/python3.11/site-packages (from pandas) (1.26.0)\r\n",
      "Requirement already satisfied: python-dateutil>=2.8.2 in /Library/Frameworks/Python.framework/Versions/3.11/lib/python3.11/site-packages (from pandas) (2.8.2)\r\n",
      "Requirement already satisfied: pytz>=2020.1 in /Library/Frameworks/Python.framework/Versions/3.11/lib/python3.11/site-packages (from pandas) (2023.3.post1)\r\n",
      "Requirement already satisfied: tzdata>=2022.1 in /Library/Frameworks/Python.framework/Versions/3.11/lib/python3.11/site-packages (from pandas) (2023.3)\r\n",
      "Requirement already satisfied: six>=1.5 in /Library/Frameworks/Python.framework/Versions/3.11/lib/python3.11/site-packages (from python-dateutil>=2.8.2->pandas) (1.16.0)\r\n",
      "\r\n",
      "\u001B[1m[\u001B[0m\u001B[34;49mnotice\u001B[0m\u001B[1;39;49m]\u001B[0m\u001B[39;49m A new release of pip is available: \u001B[0m\u001B[31;49m23.3.1\u001B[0m\u001B[39;49m -> \u001B[0m\u001B[32;49m24.0\u001B[0m\r\n",
      "\u001B[1m[\u001B[0m\u001B[34;49mnotice\u001B[0m\u001B[1;39;49m]\u001B[0m\u001B[39;49m To update, run: \u001B[0m\u001B[32;49mpip install --upgrade pip\u001B[0m\r\n",
      "Requirement already satisfied: optuna in /Library/Frameworks/Python.framework/Versions/3.11/lib/python3.11/site-packages (3.5.0)\r\n",
      "Requirement already satisfied: alembic>=1.5.0 in /Library/Frameworks/Python.framework/Versions/3.11/lib/python3.11/site-packages (from optuna) (1.13.1)\r\n",
      "Requirement already satisfied: colorlog in /Library/Frameworks/Python.framework/Versions/3.11/lib/python3.11/site-packages (from optuna) (6.8.2)\r\n",
      "Requirement already satisfied: numpy in /Library/Frameworks/Python.framework/Versions/3.11/lib/python3.11/site-packages (from optuna) (1.26.0)\r\n",
      "Requirement already satisfied: packaging>=20.0 in /Library/Frameworks/Python.framework/Versions/3.11/lib/python3.11/site-packages (from optuna) (23.2)\r\n",
      "Requirement already satisfied: sqlalchemy>=1.3.0 in /Library/Frameworks/Python.framework/Versions/3.11/lib/python3.11/site-packages (from optuna) (2.0.28)\r\n",
      "Requirement already satisfied: tqdm in /Library/Frameworks/Python.framework/Versions/3.11/lib/python3.11/site-packages (from optuna) (4.66.1)\r\n",
      "Requirement already satisfied: PyYAML in /Library/Frameworks/Python.framework/Versions/3.11/lib/python3.11/site-packages (from optuna) (6.0.1)\r\n",
      "Requirement already satisfied: Mako in /Library/Frameworks/Python.framework/Versions/3.11/lib/python3.11/site-packages (from alembic>=1.5.0->optuna) (1.3.2)\r\n",
      "Requirement already satisfied: typing-extensions>=4 in /Library/Frameworks/Python.framework/Versions/3.11/lib/python3.11/site-packages (from alembic>=1.5.0->optuna) (4.10.0)\r\n",
      "Requirement already satisfied: MarkupSafe>=0.9.2 in /Library/Frameworks/Python.framework/Versions/3.11/lib/python3.11/site-packages (from Mako->alembic>=1.5.0->optuna) (2.1.3)\r\n",
      "\r\n",
      "\u001B[1m[\u001B[0m\u001B[34;49mnotice\u001B[0m\u001B[1;39;49m]\u001B[0m\u001B[39;49m A new release of pip is available: \u001B[0m\u001B[31;49m23.3.1\u001B[0m\u001B[39;49m -> \u001B[0m\u001B[32;49m24.0\u001B[0m\r\n",
      "\u001B[1m[\u001B[0m\u001B[34;49mnotice\u001B[0m\u001B[1;39;49m]\u001B[0m\u001B[39;49m To update, run: \u001B[0m\u001B[32;49mpip install --upgrade pip\u001B[0m\r\n",
      "Requirement already satisfied: matplotlib in /Library/Frameworks/Python.framework/Versions/3.11/lib/python3.11/site-packages (3.8.2)\r\n",
      "Requirement already satisfied: contourpy>=1.0.1 in /Library/Frameworks/Python.framework/Versions/3.11/lib/python3.11/site-packages (from matplotlib) (1.1.1)\r\n",
      "Requirement already satisfied: cycler>=0.10 in /Library/Frameworks/Python.framework/Versions/3.11/lib/python3.11/site-packages (from matplotlib) (0.12.0)\r\n",
      "Requirement already satisfied: fonttools>=4.22.0 in /Library/Frameworks/Python.framework/Versions/3.11/lib/python3.11/site-packages (from matplotlib) (4.43.0)\r\n",
      "Requirement already satisfied: kiwisolver>=1.3.1 in /Library/Frameworks/Python.framework/Versions/3.11/lib/python3.11/site-packages (from matplotlib) (1.4.5)\r\n",
      "Requirement already satisfied: numpy<2,>=1.21 in /Library/Frameworks/Python.framework/Versions/3.11/lib/python3.11/site-packages (from matplotlib) (1.26.0)\r\n",
      "Requirement already satisfied: packaging>=20.0 in /Library/Frameworks/Python.framework/Versions/3.11/lib/python3.11/site-packages (from matplotlib) (23.2)\r\n",
      "Requirement already satisfied: pillow>=8 in /Library/Frameworks/Python.framework/Versions/3.11/lib/python3.11/site-packages (from matplotlib) (10.0.1)\r\n",
      "Requirement already satisfied: pyparsing>=2.3.1 in /Library/Frameworks/Python.framework/Versions/3.11/lib/python3.11/site-packages (from matplotlib) (3.1.1)\r\n",
      "Requirement already satisfied: python-dateutil>=2.7 in /Library/Frameworks/Python.framework/Versions/3.11/lib/python3.11/site-packages (from matplotlib) (2.8.2)\r\n",
      "Requirement already satisfied: six>=1.5 in /Library/Frameworks/Python.framework/Versions/3.11/lib/python3.11/site-packages (from python-dateutil>=2.7->matplotlib) (1.16.0)\r\n",
      "\r\n",
      "\u001B[1m[\u001B[0m\u001B[34;49mnotice\u001B[0m\u001B[1;39;49m]\u001B[0m\u001B[39;49m A new release of pip is available: \u001B[0m\u001B[31;49m23.3.1\u001B[0m\u001B[39;49m -> \u001B[0m\u001B[32;49m24.0\u001B[0m\r\n",
      "\u001B[1m[\u001B[0m\u001B[34;49mnotice\u001B[0m\u001B[1;39;49m]\u001B[0m\u001B[39;49m To update, run: \u001B[0m\u001B[32;49mpip install --upgrade pip\u001B[0m\r\n"
     ]
    }
   ],
   "source": [
    "!pip install scikit-learn\n",
    "!pip install pandas\n",
    "!pip install optuna\n",
    "!pip install matplotlib"
   ]
  },
  {
   "cell_type": "code",
   "outputs": [
    {
     "name": "stderr",
     "output_type": "stream",
     "text": [
      "/Library/Frameworks/Python.framework/Versions/3.11/lib/python3.11/site-packages/tqdm/auto.py:21: TqdmWarning: IProgress not found. Please update jupyter and ipywidgets. See https://ipywidgets.readthedocs.io/en/stable/user_install.html\n",
      "  from .autonotebook import tqdm as notebook_tqdm\n"
     ]
    }
   ],
   "source": [
    "from sklearn.metrics.pairwise import cosine_similarity\n",
    "from scipy.spatial import distance\n",
    "from sklearn.neighbors import NearestNeighbors\n",
    "import numpy as np\n",
    "import optuna as op\n",
    "import pandas as pd\n",
    "from sklearn.model_selection import train_test_split\n",
    "from sklearn.metrics import balanced_accuracy_score\n",
    "from sklearn.preprocessing import StandardScaler\n",
    "import matplotlib.pyplot as plt\n",
    "import warnings\n",
    "from sklearn.neighbors import KNeighborsClassifier\n",
    "\n",
    "warnings.filterwarnings('ignore')"
   ],
   "metadata": {
    "collapsed": false,
    "ExecuteTime": {
     "end_time": "2024-03-12T18:43:34.053600293Z",
     "start_time": "2024-03-12T18:43:34.004985904Z"
    }
   },
   "id": "52675b19c55ebff9",
   "execution_count": 2
  },
  {
   "cell_type": "code",
   "execution_count": 3,
   "outputs": [],
   "source": [
    "def accuracy_plot(k_neighbours, train_data, test_data):\n",
    "    plt.plot(k_neighbours, train_data)\n",
    "    plt.plot(k_neighbours, test_data)\n",
    "    plt.legend(('Train ', 'Test'))\n",
    "    plt.ylabel('Accuracy')\n",
    "    plt.xlabel('Number of Neighbours / Radius')\n",
    "    plt.grid(True)\n",
    "    plt.show()"
   ],
   "metadata": {
    "collapsed": false
   }
  },
  {
   "cell_type": "markdown",
   "source": [
    "## Metrics"
   ],
   "metadata": {
    "collapsed": false
   },
   "id": "62f94e4c6144b3c3"
  },
  {
   "cell_type": "code",
   "outputs": [],
   "source": [
    "def euclidean_metric(a: np.array, b: np.array):\n",
    "    return distance.minkowski(a, b, 2)\n",
    "\n",
    "\n",
    "def chebyshev_distance(a: np.array, b: np.array):\n",
    "    return np.max(np.abs(a - b))\n",
    "\n",
    "\n",
    "def minkowski_metric(a: np.array, b: np.array, p: int):\n",
    "    return distance.minkowski(a, b, p)\n",
    "\n",
    "\n",
    "def cosine_metric(a: np.array, b: np.array):\n",
    "    return 1 - cosine_similarity(a.reshape(1, -1), b.reshape(1, -1)).item(0)\n",
    "\n",
    "\n",
    "metrics_map = {'euclidean': euclidean_metric, 'chebyshev': chebyshev_distance, 'cosine': cosine_metric}"
   ],
   "metadata": {
    "collapsed": false,
    "ExecuteTime": {
     "end_time": "2024-03-12T18:43:34.054442573Z",
     "start_time": "2024-03-12T18:43:34.045866942Z"
    }
   },
   "id": "75cec1083740d255",
   "execution_count": 4
  },
  {
   "cell_type": "markdown",
   "source": [
    "## Kernels"
   ],
   "metadata": {
    "collapsed": false
   },
   "id": "313270abd63a74f7"
  },
  {
   "cell_type": "code",
   "outputs": [],
   "source": [
    "def uniform(u: np.array):\n",
    "    return np.multiply(u, 0.5) * (np.abs(u) < 1.0)\n",
    "\n",
    "\n",
    "def triangular(u: np.array):\n",
    "    return (1 - np.abs(u)) * (np.abs(u) < 1.0)\n",
    "\n",
    "\n",
    "def epanechnikov(u: np.array):\n",
    "    return 3.0 / 4.0 * (1 - np.power(u, 2)) * (np.abs(u) < 1.0)\n",
    "\n",
    "\n",
    "def gaussian(u: np.array):\n",
    "    return 1.0 / np.sqrt(2.0 * np.pi) * np.exp(-np.power(u, 2) / 2.0)\n",
    "\n",
    "\n",
    "kernels_map = {'uniform': uniform, 'triangular': triangular, 'epanechnikov': epanechnikov, 'gaussian': gaussian}"
   ],
   "metadata": {
    "collapsed": false,
    "ExecuteTime": {
     "end_time": "2024-03-12T18:43:34.054870526Z",
     "start_time": "2024-03-12T18:43:34.046525878Z"
    }
   },
   "id": "5721019637647edd",
   "execution_count": 5
  },
  {
   "cell_type": "markdown",
   "source": [
    "## Windows"
   ],
   "metadata": {
    "collapsed": false
   }
  },
  {
   "cell_type": "code",
   "execution_count": 6,
   "outputs": [],
   "source": [
    "windows = ['var', 'fixed']"
   ],
   "metadata": {
    "collapsed": false
   }
  },
  {
   "cell_type": "markdown",
   "source": [
    "# Data preprocessing\n",
    "Dataset: Moscow apartment listing with 4 price classes"
   ],
   "metadata": {
    "collapsed": false
   }
  },
  {
   "cell_type": "code",
   "execution_count": 7,
   "outputs": [
    {
     "data": {
      "text/plain": "     class  repair  year_built_empty  house_age  closest_subway  \\\n0        1       3                 0         42              59   \n1        0       2                 0         43              59   \n2        2       2                 0         43              59   \n3        1       2                 0         43              59   \n4        1       2                 0         43              59   \n..     ...     ...               ...        ...             ...   \n995      1       2                 0         50              98   \n996      2       3                 0         50              98   \n997      2       4                 0         38              98   \n998      2       2                 0         15              98   \n999      0       2                 0         36              98   \n\n     dist_to_subway   sg        lat        lon  subway_dist_to_center  ...  \\\n0               960  0.0  55.609009  37.734632                  17166  ...   \n1               802  0.0  55.608760  37.741936                  17166  ...   \n2               638  0.0  55.610207  37.742495                  17166  ...   \n3               929  0.0  55.624017  37.740373                  17166  ...   \n4               785  0.0  55.609107  37.740430                  17166  ...   \n..              ...  ...        ...        ...                    ...  ...   \n995             583  0.0  55.884098  37.667606                  15384  ...   \n996             954  0.0  55.888610  37.646286                  15384  ...   \n997            1912  0.0  55.894429  37.633050                  15384  ...   \n998            1668  0.0  55.879890  37.639187                  15384  ...   \n999            1237  0.0  55.892120  37.680058                  15384  ...   \n\n     subway_offers  address_offers  rooms  footage  floor  max_floor  \\\n0                5             1.0      1     39.4     11         12   \n1                9             1.0      1     35.6      2          9   \n2                9             2.0      2     53.0      5         12   \n3                5             1.0      2     44.1      8          9   \n4                5             1.0      2     44.2      6          9   \n..             ...             ...    ...      ...    ...        ...   \n995             17             1.0      2     44.9      7         14   \n996             20             1.0      2     44.0      1         14   \n997             20             2.0      2     53.4     12         12   \n998             29             1.0      2     55.0     12         14   \n999             17             1.0      1     37.0      9         17   \n\n     first_floor  last_floor  AO  hm  \n0              0           0   2   0  \n1              0           0   2   0  \n2              0           0   2   0  \n3              0           0   2   0  \n4              0           0   2   0  \n..           ...         ...  ..  ..  \n995            0           0   5   3  \n996            1           0   5   3  \n997            0           1   5   0  \n998            0           0   5   2  \n999            0           0   5   0  \n\n[1000 rows x 21 columns]",
      "text/html": "<div>\n<style scoped>\n    .dataframe tbody tr th:only-of-type {\n        vertical-align: middle;\n    }\n\n    .dataframe tbody tr th {\n        vertical-align: top;\n    }\n\n    .dataframe thead th {\n        text-align: right;\n    }\n</style>\n<table border=\"1\" class=\"dataframe\">\n  <thead>\n    <tr style=\"text-align: right;\">\n      <th></th>\n      <th>class</th>\n      <th>repair</th>\n      <th>year_built_empty</th>\n      <th>house_age</th>\n      <th>closest_subway</th>\n      <th>dist_to_subway</th>\n      <th>sg</th>\n      <th>lat</th>\n      <th>lon</th>\n      <th>subway_dist_to_center</th>\n      <th>...</th>\n      <th>subway_offers</th>\n      <th>address_offers</th>\n      <th>rooms</th>\n      <th>footage</th>\n      <th>floor</th>\n      <th>max_floor</th>\n      <th>first_floor</th>\n      <th>last_floor</th>\n      <th>AO</th>\n      <th>hm</th>\n    </tr>\n  </thead>\n  <tbody>\n    <tr>\n      <th>0</th>\n      <td>1</td>\n      <td>3</td>\n      <td>0</td>\n      <td>42</td>\n      <td>59</td>\n      <td>960</td>\n      <td>0.0</td>\n      <td>55.609009</td>\n      <td>37.734632</td>\n      <td>17166</td>\n      <td>...</td>\n      <td>5</td>\n      <td>1.0</td>\n      <td>1</td>\n      <td>39.4</td>\n      <td>11</td>\n      <td>12</td>\n      <td>0</td>\n      <td>0</td>\n      <td>2</td>\n      <td>0</td>\n    </tr>\n    <tr>\n      <th>1</th>\n      <td>0</td>\n      <td>2</td>\n      <td>0</td>\n      <td>43</td>\n      <td>59</td>\n      <td>802</td>\n      <td>0.0</td>\n      <td>55.608760</td>\n      <td>37.741936</td>\n      <td>17166</td>\n      <td>...</td>\n      <td>9</td>\n      <td>1.0</td>\n      <td>1</td>\n      <td>35.6</td>\n      <td>2</td>\n      <td>9</td>\n      <td>0</td>\n      <td>0</td>\n      <td>2</td>\n      <td>0</td>\n    </tr>\n    <tr>\n      <th>2</th>\n      <td>2</td>\n      <td>2</td>\n      <td>0</td>\n      <td>43</td>\n      <td>59</td>\n      <td>638</td>\n      <td>0.0</td>\n      <td>55.610207</td>\n      <td>37.742495</td>\n      <td>17166</td>\n      <td>...</td>\n      <td>9</td>\n      <td>2.0</td>\n      <td>2</td>\n      <td>53.0</td>\n      <td>5</td>\n      <td>12</td>\n      <td>0</td>\n      <td>0</td>\n      <td>2</td>\n      <td>0</td>\n    </tr>\n    <tr>\n      <th>3</th>\n      <td>1</td>\n      <td>2</td>\n      <td>0</td>\n      <td>43</td>\n      <td>59</td>\n      <td>929</td>\n      <td>0.0</td>\n      <td>55.624017</td>\n      <td>37.740373</td>\n      <td>17166</td>\n      <td>...</td>\n      <td>5</td>\n      <td>1.0</td>\n      <td>2</td>\n      <td>44.1</td>\n      <td>8</td>\n      <td>9</td>\n      <td>0</td>\n      <td>0</td>\n      <td>2</td>\n      <td>0</td>\n    </tr>\n    <tr>\n      <th>4</th>\n      <td>1</td>\n      <td>2</td>\n      <td>0</td>\n      <td>43</td>\n      <td>59</td>\n      <td>785</td>\n      <td>0.0</td>\n      <td>55.609107</td>\n      <td>37.740430</td>\n      <td>17166</td>\n      <td>...</td>\n      <td>5</td>\n      <td>1.0</td>\n      <td>2</td>\n      <td>44.2</td>\n      <td>6</td>\n      <td>9</td>\n      <td>0</td>\n      <td>0</td>\n      <td>2</td>\n      <td>0</td>\n    </tr>\n    <tr>\n      <th>...</th>\n      <td>...</td>\n      <td>...</td>\n      <td>...</td>\n      <td>...</td>\n      <td>...</td>\n      <td>...</td>\n      <td>...</td>\n      <td>...</td>\n      <td>...</td>\n      <td>...</td>\n      <td>...</td>\n      <td>...</td>\n      <td>...</td>\n      <td>...</td>\n      <td>...</td>\n      <td>...</td>\n      <td>...</td>\n      <td>...</td>\n      <td>...</td>\n      <td>...</td>\n      <td>...</td>\n    </tr>\n    <tr>\n      <th>995</th>\n      <td>1</td>\n      <td>2</td>\n      <td>0</td>\n      <td>50</td>\n      <td>98</td>\n      <td>583</td>\n      <td>0.0</td>\n      <td>55.884098</td>\n      <td>37.667606</td>\n      <td>15384</td>\n      <td>...</td>\n      <td>17</td>\n      <td>1.0</td>\n      <td>2</td>\n      <td>44.9</td>\n      <td>7</td>\n      <td>14</td>\n      <td>0</td>\n      <td>0</td>\n      <td>5</td>\n      <td>3</td>\n    </tr>\n    <tr>\n      <th>996</th>\n      <td>2</td>\n      <td>3</td>\n      <td>0</td>\n      <td>50</td>\n      <td>98</td>\n      <td>954</td>\n      <td>0.0</td>\n      <td>55.888610</td>\n      <td>37.646286</td>\n      <td>15384</td>\n      <td>...</td>\n      <td>20</td>\n      <td>1.0</td>\n      <td>2</td>\n      <td>44.0</td>\n      <td>1</td>\n      <td>14</td>\n      <td>1</td>\n      <td>0</td>\n      <td>5</td>\n      <td>3</td>\n    </tr>\n    <tr>\n      <th>997</th>\n      <td>2</td>\n      <td>4</td>\n      <td>0</td>\n      <td>38</td>\n      <td>98</td>\n      <td>1912</td>\n      <td>0.0</td>\n      <td>55.894429</td>\n      <td>37.633050</td>\n      <td>15384</td>\n      <td>...</td>\n      <td>20</td>\n      <td>2.0</td>\n      <td>2</td>\n      <td>53.4</td>\n      <td>12</td>\n      <td>12</td>\n      <td>0</td>\n      <td>1</td>\n      <td>5</td>\n      <td>0</td>\n    </tr>\n    <tr>\n      <th>998</th>\n      <td>2</td>\n      <td>2</td>\n      <td>0</td>\n      <td>15</td>\n      <td>98</td>\n      <td>1668</td>\n      <td>0.0</td>\n      <td>55.879890</td>\n      <td>37.639187</td>\n      <td>15384</td>\n      <td>...</td>\n      <td>29</td>\n      <td>1.0</td>\n      <td>2</td>\n      <td>55.0</td>\n      <td>12</td>\n      <td>14</td>\n      <td>0</td>\n      <td>0</td>\n      <td>5</td>\n      <td>2</td>\n    </tr>\n    <tr>\n      <th>999</th>\n      <td>0</td>\n      <td>2</td>\n      <td>0</td>\n      <td>36</td>\n      <td>98</td>\n      <td>1237</td>\n      <td>0.0</td>\n      <td>55.892120</td>\n      <td>37.680058</td>\n      <td>15384</td>\n      <td>...</td>\n      <td>17</td>\n      <td>1.0</td>\n      <td>1</td>\n      <td>37.0</td>\n      <td>9</td>\n      <td>17</td>\n      <td>0</td>\n      <td>0</td>\n      <td>5</td>\n      <td>0</td>\n    </tr>\n  </tbody>\n</table>\n<p>1000 rows × 21 columns</p>\n</div>"
     },
     "execution_count": 7,
     "metadata": {},
     "output_type": "execute_result"
    }
   ],
   "source": [
    "df = pd.read_csv('csv/apartments.csv')[:1000]\n",
    "df"
   ],
   "metadata": {
    "collapsed": false
   }
  },
  {
   "cell_type": "markdown",
   "source": [
    "## Data normalization"
   ],
   "metadata": {
    "collapsed": false
   }
  },
  {
   "cell_type": "code",
   "outputs": [
    {
     "data": {
      "text/plain": "<Axes: >"
     },
     "execution_count": 8,
     "metadata": {},
     "output_type": "execute_result"
    },
    {
     "data": {
      "text/plain": "<Figure size 640x480 with 1 Axes>",
      "image/png": "[encoded data removed]"
     },
     "metadata": {},
     "output_type": "display_data"
    }
   ],
   "source": [
    "y = df['class'].values\n",
    "X = StandardScaler().fit_transform(df.drop(columns=['class']).values)\n",
    "df['class'].hist(bins=4)"
   ],
   "metadata": {
    "collapsed": false,
    "ExecuteTime": {
     "end_time": "2024-03-12T18:43:34.209101301Z",
     "start_time": "2024-03-12T18:43:34.046981092Z"
    }
   },
   "id": "e60e9199ae4d8a35",
   "execution_count": 8
  },
  {
   "cell_type": "code",
   "execution_count": 9,
   "outputs": [
    {
     "name": "stdout",
     "output_type": "stream",
     "text": [
      "Train set: (800, 20) (800,)\n",
      "Test set: (200, 20) (200,)\n"
     ]
    }
   ],
   "source": [
    "X_train, X_test, y_train, y_test = train_test_split(X, y, test_size=0.2, random_state=50)\n",
    "print('Train set:', X_train.shape, y_train.shape)\n",
    "print('Test set:', X_test.shape, y_test.shape)"
   ],
   "metadata": {
    "collapsed": false
   }
  },
  {
   "cell_type": "markdown",
   "source": [
    "# My K-Nearest Neighbours Classifier"
   ],
   "metadata": {
    "collapsed": false
   }
  },
  {
   "cell_type": "code",
   "execution_count": 10,
   "outputs": [],
   "source": [
    "class MyKNeighborsClassifier:\n",
    "    lib_model = None\n",
    "    window = 'var'\n",
    "    probability = {}\n",
    "    Y_train = []\n",
    "    classes = []\n",
    "\n",
    "    def __init__(self, metr: callable, wind: str):\n",
    "        self.lib_model = NearestNeighbors(metric=metr)\n",
    "        self.window = wind\n",
    "\n",
    "    def fit(self, x_train, Y_train):\n",
    "        assert len(x_train) == len(Y_train)\n",
    "        self.lib_model.fit(x_train)\n",
    "        self.Y_train = Y_train\n",
    "        self.classes = np.unique(Y_train)\n",
    "        return self\n",
    "\n",
    "    def forecast(self,\n",
    "                 value,\n",
    "                 kern,\n",
    "                 k_neighbours: int = 3, radius: float = 1.0,\n",
    "                 wghts=None):\n",
    "        if wghts is None:\n",
    "            wghts = np.ones(len(self.Y_train))\n",
    "\n",
    "        x = [value]\n",
    "        match self.window:\n",
    "            case 'fixed':\n",
    "                divisor = radius\n",
    "                if kern == gaussian:\n",
    "                    radius = np.inf\n",
    "                neigh_dist, neigh_ind = self.lib_model.radius_neighbors(x, radius, return_distance=True)\n",
    "                if len(neigh_dist) == 0:\n",
    "                    raise RuntimeError('No neighbours found in given radius')\n",
    "                neigh_ind = neigh_ind[0]\n",
    "                neigh_dist = neigh_dist[0]\n",
    "            case 'var':\n",
    "                neigh_dist, neigh_ind = self.lib_model.kneighbors(x, k_neighbours + 1, return_distance=True)\n",
    "                neigh_ind = neigh_ind[0][:-1]\n",
    "                neigh_dist = neigh_dist[0]\n",
    "                divisor = neigh_dist[-1]\n",
    "                neigh_dist = neigh_dist[:-1]\n",
    "            case _:\n",
    "                raise RuntimeError\n",
    "\n",
    "        modified_dist = kern(neigh_dist / divisor) * wghts[neigh_ind]\n",
    "        classes = self.Y_train[neigh_ind]\n",
    "        class_count_map = {}\n",
    "        for i in range(len(classes)):\n",
    "            if classes[i] not in class_count_map:\n",
    "                class_count_map[classes[i]] = 0\n",
    "            class_count_map[classes[i]] += modified_dist[i]\n",
    "        sum_dist = sum(modified_dist)\n",
    "\n",
    "        for item in class_count_map.items():\n",
    "            self.probability[item[0]] = item[1] / sum_dist\n",
    "\n",
    "        buf = sorted(class_count_map.items(), key=lambda v: v[1], reverse=True)\n",
    "\n",
    "        if len(buf) == 0:\n",
    "            return 0\n",
    "\n",
    "        return buf[0][0]\n",
    "\n",
    "    def predict(self,\n",
    "                x_test,\n",
    "                kern,\n",
    "                k_neighbours: int = 3, radius: float = 1.0,\n",
    "                wghts=None):\n",
    "        forecasts = []\n",
    "        for value in x_test:\n",
    "            forecasts.append(self.forecast(value, kern, k_neighbours, radius, wghts))\n",
    "        return forecasts\n",
    "\n",
    "    def get_probability(self, value):\n",
    "        return self.probability.get(value, 0.0)"
   ],
   "metadata": {
    "collapsed": false
   }
  },
  {
   "cell_type": "markdown",
   "source": [
    "## Hyperparameters optimization"
   ],
   "metadata": {
    "collapsed": false
   }
  },
  {
   "cell_type": "code",
   "outputs": [
    {
     "name": "stderr",
     "output_type": "stream",
     "text": [
      "[I 2024-05-26 13:05:28,348] A new study created in memory with name: no-name-70a41d79-e8a5-4985-b701-1f0ef3a22415\n",
      "[I 2024-05-26 13:05:31,970] Trial 1 finished with value: 0.2668247515808492 and parameters: {'metric': 'euclidean', 'kernel': 'epanechnikov', 'window': 'fixed', 'radius': 0.36581241564187195}. Best is trial 1 with value: 0.2668247515808492.\n",
      "[I 2024-05-26 13:05:32,675] Trial 4 finished with value: 0.4497908566042182 and parameters: {'metric': 'euclidean', 'kernel': 'uniform', 'window': 'fixed', 'radius': 1.9598850577743636}. Best is trial 4 with value: 0.4497908566042182.\n",
      "[I 2024-05-26 13:05:50,034] Trial 6 finished with value: 0.556051411963395 and parameters: {'metric': 'chebyshev', 'kernel': 'gaussian', 'window': 'var', 'neighbours': 11}. Best is trial 6 with value: 0.556051411963395.\n",
      "[I 2024-05-26 13:05:50,178] Trial 0 finished with value: 0.6483936216173756 and parameters: {'metric': 'chebyshev', 'kernel': 'triangular', 'window': 'var', 'neighbours': 19}. Best is trial 0 with value: 0.6483936216173756.\n",
      "[I 2024-05-26 13:05:55,785] Trial 5 finished with value: 0.7007629315423589 and parameters: {'metric': 'euclidean', 'kernel': 'epanechnikov', 'window': 'var', 'neighbours': 12}. Best is trial 5 with value: 0.7007629315423589.\n",
      "[I 2024-05-26 13:05:56,664] Trial 8 finished with value: 0.6529937944306979 and parameters: {'metric': 'chebyshev', 'kernel': 'triangular', 'window': 'var', 'neighbours': 12}. Best is trial 5 with value: 0.7007629315423589.\n",
      "[I 2024-05-26 13:06:01,192] Trial 9 finished with value: 0.7145389026354032 and parameters: {'metric': 'euclidean', 'kernel': 'epanechnikov', 'window': 'var', 'neighbours': 16}. Best is trial 9 with value: 0.7145389026354032.\n",
      "[I 2024-05-26 13:06:20,830] Trial 3 finished with value: 0.6622825105062645 and parameters: {'metric': 'chebyshev', 'kernel': 'gaussian', 'window': 'fixed', 'radius': 0.3540350634344105}. Best is trial 9 with value: 0.7145389026354032.\n",
      "[I 2024-05-26 13:06:23,809] Trial 15 finished with value: 0.4226856761321237 and parameters: {'metric': 'euclidean', 'kernel': 'uniform', 'window': 'fixed', 'radius': 1.5091463437437376}. Best is trial 9 with value: 0.7145389026354032.\n",
      "[I 2024-05-26 13:06:28,244] Trial 10 finished with value: 0.6962462197085739 and parameters: {'metric': 'euclidean', 'kernel': 'epanechnikov', 'window': 'var', 'neighbours': 10}. Best is trial 9 with value: 0.7145389026354032.\n",
      "[I 2024-05-26 13:06:29,196] Trial 2 finished with value: 0.6913612976709477 and parameters: {'metric': 'cosine', 'kernel': 'epanechnikov', 'window': 'var', 'neighbours': 3}. Best is trial 9 with value: 0.7145389026354032.\n",
      "[I 2024-05-26 13:06:34,072] Trial 13 finished with value: 0.6712324731942971 and parameters: {'metric': 'euclidean', 'kernel': 'gaussian', 'window': 'var', 'neighbours': 13}. Best is trial 9 with value: 0.7145389026354032.\n",
      "[I 2024-05-26 13:06:39,480] Trial 7 finished with value: 0.5605975806134873 and parameters: {'metric': 'cosine', 'kernel': 'uniform', 'window': 'var', 'neighbours': 10}. Best is trial 9 with value: 0.7145389026354032.\n",
      "[I 2024-05-26 13:06:47,718] Trial 16 finished with value: 0.622137779348808 and parameters: {'metric': 'chebyshev', 'kernel': 'gaussian', 'window': 'var', 'neighbours': 6}. Best is trial 9 with value: 0.7145389026354032.\n",
      "[I 2024-05-26 13:07:05,279] Trial 18 finished with value: 0.7175876831232081 and parameters: {'metric': 'euclidean', 'kernel': 'epanechnikov', 'window': 'var', 'neighbours': 17}. Best is trial 18 with value: 0.7175876831232081.\n",
      "[I 2024-05-26 13:07:25,539] Trial 11 finished with value: 0.6745365460900985 and parameters: {'metric': 'cosine', 'kernel': 'triangular', 'window': 'var', 'neighbours': 14}. Best is trial 18 with value: 0.7175876831232081.\n",
      "[I 2024-05-26 13:07:33,046] Trial 20 finished with value: 0.7175876831232081 and parameters: {'metric': 'euclidean', 'kernel': 'epanechnikov', 'window': 'var', 'neighbours': 17}. Best is trial 18 with value: 0.7175876831232081.\n",
      "[I 2024-05-26 13:07:33,130] Trial 14 finished with value: 0.6913612976709477 and parameters: {'metric': 'cosine', 'kernel': 'triangular', 'window': 'var', 'neighbours': 4}. Best is trial 18 with value: 0.7175876831232081.\n",
      "[I 2024-05-26 13:07:35,673] Trial 24 finished with value: 0.3805918856290012 and parameters: {'metric': 'euclidean', 'kernel': 'epanechnikov', 'window': 'fixed', 'radius': 1.0527937709607849}. Best is trial 18 with value: 0.7175876831232081.\n",
      "[I 2024-05-26 13:07:37,814] Trial 25 finished with value: 0.37291347551156667 and parameters: {'metric': 'euclidean', 'kernel': 'epanechnikov', 'window': 'fixed', 'radius': 1.0367638983512695}. Best is trial 18 with value: 0.7175876831232081.\n",
      "[I 2024-05-26 13:07:42,678] Trial 21 finished with value: 0.7175876831232081 and parameters: {'metric': 'euclidean', 'kernel': 'epanechnikov', 'window': 'var', 'neighbours': 17}. Best is trial 18 with value: 0.7175876831232081.\n",
      "[I 2024-05-26 13:07:49,303] Trial 17 finished with value: 0.6697939986646243 and parameters: {'metric': 'cosine', 'kernel': 'epanechnikov', 'window': 'var', 'neighbours': 18}. Best is trial 18 with value: 0.7175876831232081.\n",
      "[I 2024-05-26 13:07:50,094] Trial 19 finished with value: 0.6697939986646243 and parameters: {'metric': 'cosine', 'kernel': 'epanechnikov', 'window': 'var', 'neighbours': 18}. Best is trial 18 with value: 0.7175876831232081.\n",
      "[I 2024-05-26 13:07:51,902] Trial 12 finished with value: 0.25 and parameters: {'metric': 'cosine', 'kernel': 'gaussian', 'window': 'fixed', 'radius': 0.9256814422447545}. Best is trial 18 with value: 0.7175876831232081.\n",
      "[I 2024-05-26 13:07:52,017] Trial 22 finished with value: 0.7175876831232081 and parameters: {'metric': 'euclidean', 'kernel': 'epanechnikov', 'window': 'var', 'neighbours': 18}. Best is trial 18 with value: 0.7175876831232081.\n",
      "[I 2024-05-26 13:07:53,071] Trial 23 finished with value: 0.7114901221475983 and parameters: {'metric': 'euclidean', 'kernel': 'epanechnikov', 'window': 'var', 'neighbours': 19}. Best is trial 18 with value: 0.7175876831232081.\n",
      "[I 2024-05-26 13:07:54,074] Trial 26 finished with value: 0.7114901221475983 and parameters: {'metric': 'euclidean', 'kernel': 'epanechnikov', 'window': 'var', 'neighbours': 20}. Best is trial 18 with value: 0.7175876831232081.\n",
      "[I 2024-05-26 13:07:54,200] Trial 27 finished with value: 0.7114901221475983 and parameters: {'metric': 'euclidean', 'kernel': 'epanechnikov', 'window': 'var', 'neighbours': 20}. Best is trial 18 with value: 0.7175876831232081.\n",
      "[I 2024-05-26 13:07:55,060] Trial 28 finished with value: 0.7114901221475983 and parameters: {'metric': 'euclidean', 'kernel': 'epanechnikov', 'window': 'var', 'neighbours': 20}. Best is trial 18 with value: 0.7175876831232081.\n",
      "[I 2024-05-26 13:07:55,402] Trial 30 finished with value: 0.7145389026354032 and parameters: {'metric': 'euclidean', 'kernel': 'epanechnikov', 'window': 'var', 'neighbours': 16}. Best is trial 18 with value: 0.7175876831232081.\n",
      "[I 2024-05-26 13:07:55,480] Trial 29 finished with value: 0.7114901221475983 and parameters: {'metric': 'euclidean', 'kernel': 'epanechnikov', 'window': 'var', 'neighbours': 20}. Best is trial 18 with value: 0.7175876831232081.\n",
      "[I 2024-05-26 13:07:56,363] Trial 31 finished with value: 0.7236852440988178 and parameters: {'metric': 'euclidean', 'kernel': 'epanechnikov', 'window': 'var', 'neighbours': 15}. Best is trial 31 with value: 0.7236852440988178.\n",
      "[I 2024-05-26 13:07:56,797] Trial 32 finished with value: 0.7236852440988178 and parameters: {'metric': 'euclidean', 'kernel': 'epanechnikov', 'window': 'var', 'neighbours': 15}. Best is trial 31 with value: 0.7236852440988178.\n",
      "[I 2024-05-26 13:07:57,698] Trial 33 finished with value: 0.7236852440988178 and parameters: {'metric': 'euclidean', 'kernel': 'epanechnikov', 'window': 'var', 'neighbours': 15}. Best is trial 31 with value: 0.7236852440988178.\n",
      "[I 2024-05-26 13:07:58,597] Trial 35 finished with value: 0.7236852440988178 and parameters: {'metric': 'euclidean', 'kernel': 'epanechnikov', 'window': 'var', 'neighbours': 15}. Best is trial 31 with value: 0.7236852440988178.\n",
      "[I 2024-05-26 13:07:59,093] Trial 34 finished with value: 0.7236852440988178 and parameters: {'metric': 'euclidean', 'kernel': 'epanechnikov', 'window': 'var', 'neighbours': 15}. Best is trial 31 with value: 0.7236852440988178.\n",
      "[I 2024-05-26 13:07:59,948] Trial 36 finished with value: 0.5559974078001649 and parameters: {'metric': 'euclidean', 'kernel': 'uniform', 'window': 'var', 'neighbours': 15}. Best is trial 31 with value: 0.7236852440988178.\n",
      "[I 2024-05-26 13:08:00,188] Trial 38 finished with value: 0.7145389026354032 and parameters: {'metric': 'euclidean', 'kernel': 'epanechnikov', 'window': 'var', 'neighbours': 16}. Best is trial 31 with value: 0.7236852440988178.\n",
      "[I 2024-05-26 13:08:00,188] Trial 37 finished with value: 0.7145389026354032 and parameters: {'metric': 'euclidean', 'kernel': 'epanechnikov', 'window': 'var', 'neighbours': 16}. Best is trial 31 with value: 0.7236852440988178.\n",
      "[I 2024-05-26 13:08:00,793] Trial 44 finished with value: 0.2530487804878049 and parameters: {'metric': 'chebyshev', 'kernel': 'triangular', 'window': 'fixed', 'radius': 0.13937355976192678}. Best is trial 31 with value: 0.7236852440988178.\n",
      "[I 2024-05-26 13:08:01,579] Trial 45 finished with value: 0.2530487804878049 and parameters: {'metric': 'chebyshev', 'kernel': 'triangular', 'window': 'fixed', 'radius': 0.04623220410506956}. Best is trial 31 with value: 0.7236852440988178.\n",
      "[I 2024-05-26 13:08:01,975] Trial 39 finished with value: 0.7145389026354032 and parameters: {'metric': 'euclidean', 'kernel': 'epanechnikov', 'window': 'var', 'neighbours': 16}. Best is trial 31 with value: 0.7236852440988178.\n",
      "[I 2024-05-26 13:08:02,151] Trial 40 finished with value: 0.7236852440988178 and parameters: {'metric': 'euclidean', 'kernel': 'epanechnikov', 'window': 'var', 'neighbours': 15}. Best is trial 31 with value: 0.7236852440988178.\n",
      "[I 2024-05-26 13:08:03,545] Trial 41 finished with value: 0.5559974078001649 and parameters: {'metric': 'euclidean', 'kernel': 'uniform', 'window': 'var', 'neighbours': 15}. Best is trial 31 with value: 0.7236852440988178.\n",
      "[I 2024-05-26 13:08:04,370] Trial 43 finished with value: 0.5023860021208908 and parameters: {'metric': 'chebyshev', 'kernel': 'uniform', 'window': 'var', 'neighbours': 14}. Best is trial 31 with value: 0.7236852440988178.\n",
      "[I 2024-05-26 13:08:04,461] Trial 42 finished with value: 0.5559974078001649 and parameters: {'metric': 'euclidean', 'kernel': 'uniform', 'window': 'var', 'neighbours': 15}. Best is trial 31 with value: 0.7236852440988178.\n",
      "[I 2024-05-26 13:08:05,428] Trial 46 finished with value: 0.5023860021208908 and parameters: {'metric': 'chebyshev', 'kernel': 'uniform', 'window': 'var', 'neighbours': 14}. Best is trial 31 with value: 0.7236852440988178.\n",
      "[I 2024-05-26 13:08:05,510] Trial 47 finished with value: 0.5023860021208908 and parameters: {'metric': 'chebyshev', 'kernel': 'uniform', 'window': 'var', 'neighbours': 14}. Best is trial 31 with value: 0.7236852440988178.\n",
      "[I 2024-05-26 13:08:06,015] Trial 48 finished with value: 0.7145389026354032 and parameters: {'metric': 'euclidean', 'kernel': 'epanechnikov', 'window': 'var', 'neighbours': 14}. Best is trial 31 with value: 0.7236852440988178.\n",
      "[I 2024-05-26 13:08:06,888] Trial 49 finished with value: 0.5712413102391893 and parameters: {'metric': 'euclidean', 'kernel': 'uniform', 'window': 'var', 'neighbours': 14}. Best is trial 31 with value: 0.7236852440988178.\n",
      "[I 2024-05-26 13:08:07,123] Trial 50 finished with value: 0.5712413102391893 and parameters: {'metric': 'euclidean', 'kernel': 'uniform', 'window': 'var', 'neighbours': 14}. Best is trial 31 with value: 0.7236852440988178.\n",
      "[I 2024-05-26 13:08:08,603] Trial 51 finished with value: 0.7038117120301638 and parameters: {'metric': 'euclidean', 'kernel': 'epanechnikov', 'window': 'var', 'neighbours': 13}. Best is trial 31 with value: 0.7236852440988178.\n",
      "[I 2024-05-26 13:08:08,829] Trial 52 finished with value: 0.7038117120301638 and parameters: {'metric': 'euclidean', 'kernel': 'epanechnikov', 'window': 'var', 'neighbours': 13}. Best is trial 31 with value: 0.7236852440988178.\n",
      "[I 2024-05-26 13:08:08,991] Trial 53 finished with value: 0.7007629315423589 and parameters: {'metric': 'euclidean', 'kernel': 'epanechnikov', 'window': 'var', 'neighbours': 12}. Best is trial 31 with value: 0.7236852440988178.\n",
      "[I 2024-05-26 13:08:10,915] Trial 54 finished with value: 0.674423628294254 and parameters: {'metric': 'euclidean', 'kernel': 'gaussian', 'window': 'var', 'neighbours': 12}. Best is trial 31 with value: 0.7236852440988178.\n",
      "[I 2024-05-26 13:08:12,217] Trial 55 finished with value: 0.674423628294254 and parameters: {'metric': 'euclidean', 'kernel': 'gaussian', 'window': 'var', 'neighbours': 12}. Best is trial 31 with value: 0.7236852440988178.\n",
      "[I 2024-05-26 13:08:14,935] Trial 56 finished with value: 0.674423628294254 and parameters: {'metric': 'euclidean', 'kernel': 'gaussian', 'window': 'var', 'neighbours': 12}. Best is trial 31 with value: 0.7236852440988178.\n",
      "[I 2024-05-26 13:08:26,962] Trial 58 finished with value: 0.7053925611719886 and parameters: {'metric': 'euclidean', 'kernel': 'epanechnikov', 'window': 'var', 'neighbours': 11}. Best is trial 31 with value: 0.7236852440988178.\n",
      "[I 2024-05-26 13:08:27,991] Trial 57 finished with value: 0.674423628294254 and parameters: {'metric': 'euclidean', 'kernel': 'gaussian', 'window': 'var', 'neighbours': 12}. Best is trial 31 with value: 0.7236852440988178.\n",
      "[I 2024-05-26 13:08:46,836] Trial 59 finished with value: 0.674423628294254 and parameters: {'metric': 'euclidean', 'kernel': 'gaussian', 'window': 'var', 'neighbours': 12}. Best is trial 31 with value: 0.7236852440988178.\n",
      "[I 2024-05-26 13:08:54,124] Trial 60 finished with value: 0.6638093554848592 and parameters: {'metric': 'euclidean', 'kernel': 'gaussian', 'window': 'var', 'neighbours': 11}. Best is trial 31 with value: 0.7236852440988178.\n",
      "[I 2024-05-26 13:09:21,318] Trial 61 finished with value: 0.6393061937865755 and parameters: {'metric': 'cosine', 'kernel': 'gaussian', 'window': 'var', 'neighbours': 9}. Best is trial 31 with value: 0.7236852440988178.\n",
      "[I 2024-05-26 13:09:34,174] Trial 62 finished with value: 0.6591797258552295 and parameters: {'metric': 'cosine', 'kernel': 'epanechnikov', 'window': 'var', 'neighbours': 9}. Best is trial 31 with value: 0.7236852440988178.\n",
      "[I 2024-05-26 13:09:38,328] Trial 70 finished with value: 0.49659282824712303 and parameters: {'metric': 'euclidean', 'kernel': 'epanechnikov', 'window': 'fixed', 'radius': 1.8613034552489154}. Best is trial 31 with value: 0.7236852440988178.\n",
      "[I 2024-05-26 13:09:46,811] Trial 63 finished with value: 0.6591797258552295 and parameters: {'metric': 'cosine', 'kernel': 'epanechnikov', 'window': 'var', 'neighbours': 10}. Best is trial 31 with value: 0.7236852440988178.\n",
      "[I 2024-05-26 13:10:16,416] Trial 71 finished with value: 0.7175876831232081 and parameters: {'metric': 'euclidean', 'kernel': 'epanechnikov', 'window': 'var', 'neighbours': 17}. Best is trial 31 with value: 0.7236852440988178.\n",
      "[I 2024-05-26 13:10:30,544] Trial 72 finished with value: 0.7175876831232081 and parameters: {'metric': 'euclidean', 'kernel': 'epanechnikov', 'window': 'var', 'neighbours': 17}. Best is trial 31 with value: 0.7236852440988178.\n",
      "[I 2024-05-26 13:10:34,920] Trial 74 finished with value: 0.32684301480695965 and parameters: {'metric': 'euclidean', 'kernel': 'epanechnikov', 'window': 'fixed', 'radius': 0.7149132623859846}. Best is trial 31 with value: 0.7236852440988178.\n",
      "[I 2024-05-26 13:10:36,943] Trial 64 finished with value: 0.25 and parameters: {'metric': 'cosine', 'kernel': 'epanechnikov', 'window': 'fixed', 'radius': 1.9735361594691123}. Best is trial 31 with value: 0.7236852440988178.\n",
      "[I 2024-05-26 13:10:41,252] Trial 66 finished with value: 0.25 and parameters: {'metric': 'cosine', 'kernel': 'epanechnikov', 'window': 'fixed', 'radius': 1.9495712057123358}. Best is trial 31 with value: 0.7236852440988178.\n",
      "[I 2024-05-26 13:10:48,154] Trial 65 finished with value: 0.25 and parameters: {'metric': 'cosine', 'kernel': 'epanechnikov', 'window': 'fixed', 'radius': 1.7829494498254146}. Best is trial 31 with value: 0.7236852440988178.\n",
      "[I 2024-05-26 13:10:53,965] Trial 73 finished with value: 0.7175876831232081 and parameters: {'metric': 'euclidean', 'kernel': 'epanechnikov', 'window': 'var', 'neighbours': 17}. Best is trial 31 with value: 0.7236852440988178.\n",
      "[I 2024-05-26 13:10:59,191] Trial 67 finished with value: 0.25 and parameters: {'metric': 'cosine', 'kernel': 'epanechnikov', 'window': 'fixed', 'radius': 1.9890451961087512}. Best is trial 31 with value: 0.7236852440988178.\n",
      "[I 2024-05-26 13:11:00,777] Trial 68 finished with value: 0.25 and parameters: {'metric': 'cosine', 'kernel': 'epanechnikov', 'window': 'fixed', 'radius': 1.922982061371969}. Best is trial 31 with value: 0.7236852440988178.\n",
      "[I 2024-05-26 13:11:01,023] Trial 75 finished with value: 0.7236852440988178 and parameters: {'metric': 'euclidean', 'kernel': 'epanechnikov', 'window': 'var', 'neighbours': 15}. Best is trial 31 with value: 0.7236852440988178.\n",
      "[I 2024-05-26 13:11:01,205] Trial 76 finished with value: 0.7236852440988178 and parameters: {'metric': 'euclidean', 'kernel': 'epanechnikov', 'window': 'var', 'neighbours': 15}. Best is trial 31 with value: 0.7236852440988178.\n",
      "[I 2024-05-26 13:11:03,374] Trial 77 finished with value: 0.7236852440988178 and parameters: {'metric': 'euclidean', 'kernel': 'epanechnikov', 'window': 'var', 'neighbours': 15}. Best is trial 31 with value: 0.7236852440988178.\n",
      "[I 2024-05-26 13:11:03,694] Trial 69 finished with value: 0.25 and parameters: {'metric': 'cosine', 'kernel': 'epanechnikov', 'window': 'fixed', 'radius': 1.9609900281180879}. Best is trial 31 with value: 0.7236852440988178.\n",
      "[I 2024-05-26 13:11:05,021] Trial 78 finished with value: 0.7175876831232081 and parameters: {'metric': 'euclidean', 'kernel': 'epanechnikov', 'window': 'var', 'neighbours': 17}. Best is trial 31 with value: 0.7236852440988178.\n",
      "[I 2024-05-26 13:11:05,735] Trial 79 finished with value: 0.7236852440988178 and parameters: {'metric': 'euclidean', 'kernel': 'epanechnikov', 'window': 'var', 'neighbours': 15}. Best is trial 31 with value: 0.7236852440988178.\n",
      "[I 2024-05-26 13:11:07,163] Trial 80 finished with value: 0.7236852440988178 and parameters: {'metric': 'euclidean', 'kernel': 'epanechnikov', 'window': 'var', 'neighbours': 15}. Best is trial 31 with value: 0.7236852440988178.\n",
      "[I 2024-05-26 13:11:07,631] Trial 81 finished with value: 0.7145389026354032 and parameters: {'metric': 'euclidean', 'kernel': 'triangular', 'window': 'var', 'neighbours': 15}. Best is trial 31 with value: 0.7236852440988178.\n",
      "[I 2024-05-26 13:11:08,214] Trial 83 finished with value: 0.7145389026354032 and parameters: {'metric': 'euclidean', 'kernel': 'triangular', 'window': 'var', 'neighbours': 15}. Best is trial 31 with value: 0.7236852440988178.\n",
      "[I 2024-05-26 13:11:08,337] Trial 82 finished with value: 0.7145389026354032 and parameters: {'metric': 'euclidean', 'kernel': 'triangular', 'window': 'var', 'neighbours': 15}. Best is trial 31 with value: 0.7236852440988178.\n",
      "[I 2024-05-26 13:11:08,546] Trial 84 finished with value: 0.7145389026354032 and parameters: {'metric': 'euclidean', 'kernel': 'triangular', 'window': 'var', 'neighbours': 15}. Best is trial 31 with value: 0.7236852440988178.\n",
      "[I 2024-05-26 13:11:08,575] Trial 85 finished with value: 0.7145389026354032 and parameters: {'metric': 'euclidean', 'kernel': 'triangular', 'window': 'var', 'neighbours': 15}. Best is trial 31 with value: 0.7236852440988178.\n",
      "[I 2024-05-26 13:11:10,235] Trial 86 finished with value: 0.7145389026354032 and parameters: {'metric': 'euclidean', 'kernel': 'triangular', 'window': 'var', 'neighbours': 15}. Best is trial 31 with value: 0.7236852440988178.\n",
      "[I 2024-05-26 13:11:10,920] Trial 87 finished with value: 0.7175876831232081 and parameters: {'metric': 'euclidean', 'kernel': 'triangular', 'window': 'var', 'neighbours': 16}. Best is trial 31 with value: 0.7236852440988178.\n",
      "[I 2024-05-26 13:11:11,873] Trial 88 finished with value: 0.7175876831232081 and parameters: {'metric': 'euclidean', 'kernel': 'triangular', 'window': 'var', 'neighbours': 16}. Best is trial 31 with value: 0.7236852440988178.\n",
      "[I 2024-05-26 13:11:12,174] Trial 89 finished with value: 0.7145389026354032 and parameters: {'metric': 'euclidean', 'kernel': 'epanechnikov', 'window': 'var', 'neighbours': 16}. Best is trial 31 with value: 0.7236852440988178.\n",
      "[I 2024-05-26 13:11:12,674] Trial 90 finished with value: 0.7145389026354032 and parameters: {'metric': 'euclidean', 'kernel': 'epanechnikov', 'window': 'var', 'neighbours': 16}. Best is trial 31 with value: 0.7236852440988178.\n",
      "[I 2024-05-26 13:11:13,743] Trial 91 finished with value: 0.7145389026354032 and parameters: {'metric': 'euclidean', 'kernel': 'epanechnikov', 'window': 'var', 'neighbours': 16}. Best is trial 31 with value: 0.7236852440988178.\n",
      "[I 2024-05-26 13:11:14,008] Trial 93 finished with value: 0.7145389026354032 and parameters: {'metric': 'euclidean', 'kernel': 'epanechnikov', 'window': 'var', 'neighbours': 16}. Best is trial 31 with value: 0.7236852440988178.\n",
      "[I 2024-05-26 13:11:14,181] Trial 92 finished with value: 0.7145389026354032 and parameters: {'metric': 'euclidean', 'kernel': 'epanechnikov', 'window': 'var', 'neighbours': 16}. Best is trial 31 with value: 0.7236852440988178.\n",
      "[I 2024-05-26 13:11:15,732] Trial 94 finished with value: 0.7145389026354032 and parameters: {'metric': 'euclidean', 'kernel': 'epanechnikov', 'window': 'var', 'neighbours': 16}. Best is trial 31 with value: 0.7236852440988178.\n",
      "[I 2024-05-26 13:11:16,266] Trial 95 finished with value: 0.7038117120301638 and parameters: {'metric': 'euclidean', 'kernel': 'epanechnikov', 'window': 'var', 'neighbours': 13}. Best is trial 31 with value: 0.7236852440988178.\n",
      "[I 2024-05-26 13:11:16,947] Trial 96 finished with value: 0.7038117120301638 and parameters: {'metric': 'euclidean', 'kernel': 'epanechnikov', 'window': 'var', 'neighbours': 13}. Best is trial 31 with value: 0.7236852440988178.\n",
      "[I 2024-05-26 13:11:17,448] Trial 97 finished with value: 0.7038117120301638 and parameters: {'metric': 'euclidean', 'kernel': 'epanechnikov', 'window': 'var', 'neighbours': 13}. Best is trial 31 with value: 0.7236852440988178.\n",
      "[I 2024-05-26 13:11:18,200] Trial 98 finished with value: 0.7038117120301638 and parameters: {'metric': 'euclidean', 'kernel': 'epanechnikov', 'window': 'var', 'neighbours': 13}. Best is trial 31 with value: 0.7236852440988178.\n",
      "[I 2024-05-26 13:11:18,669] Trial 100 finished with value: 0.7038117120301638 and parameters: {'metric': 'euclidean', 'kernel': 'epanechnikov', 'window': 'var', 'neighbours': 13}. Best is trial 31 with value: 0.7236852440988178.\n",
      "[I 2024-05-26 13:11:18,688] Trial 101 finished with value: 0.7038117120301638 and parameters: {'metric': 'euclidean', 'kernel': 'epanechnikov', 'window': 'var', 'neighbours': 13}. Best is trial 31 with value: 0.7236852440988178.\n",
      "[I 2024-05-26 13:11:18,925] Trial 99 finished with value: 0.7038117120301638 and parameters: {'metric': 'euclidean', 'kernel': 'epanechnikov', 'window': 'var', 'neighbours': 13}. Best is trial 31 with value: 0.7236852440988178.\n",
      "[I 2024-05-26 13:11:20,607] Trial 102 finished with value: 0.6454577589254153 and parameters: {'metric': 'chebyshev', 'kernel': 'epanechnikov', 'window': 'var', 'neighbours': 13}. Best is trial 31 with value: 0.7236852440988178.\n",
      "[I 2024-05-26 13:11:20,821] Trial 103 finished with value: 0.6485065394132202 and parameters: {'metric': 'chebyshev', 'kernel': 'epanechnikov', 'window': 'var', 'neighbours': 14}. Best is trial 31 with value: 0.7236852440988178.\n",
      "[I 2024-05-26 13:11:21,134] Trial 104 finished with value: 0.6485065394132202 and parameters: {'metric': 'chebyshev', 'kernel': 'epanechnikov', 'window': 'var', 'neighbours': 14}. Best is trial 31 with value: 0.7236852440988178.\n",
      "[I 2024-05-26 13:11:21,621] Trial 105 finished with value: 0.6485065394132202 and parameters: {'metric': 'chebyshev', 'kernel': 'epanechnikov', 'window': 'var', 'neighbours': 14}. Best is trial 31 with value: 0.7236852440988178.\n",
      "[I 2024-05-26 13:11:22,620] Trial 106 finished with value: 0.6485065394132202 and parameters: {'metric': 'chebyshev', 'kernel': 'epanechnikov', 'window': 'var', 'neighbours': 14}. Best is trial 31 with value: 0.7236852440988178.\n",
      "[I 2024-05-26 13:11:23,201] Trial 107 finished with value: 0.6485065394132202 and parameters: {'metric': 'chebyshev', 'kernel': 'epanechnikov', 'window': 'var', 'neighbours': 14}. Best is trial 31 with value: 0.7236852440988178.\n",
      "[I 2024-05-26 13:11:23,325] Trial 109 finished with value: 0.6485065394132202 and parameters: {'metric': 'chebyshev', 'kernel': 'epanechnikov', 'window': 'var', 'neighbours': 14}. Best is trial 31 with value: 0.7236852440988178.\n",
      "[I 2024-05-26 13:11:23,475] Trial 108 finished with value: 0.6485065394132202 and parameters: {'metric': 'chebyshev', 'kernel': 'epanechnikov', 'window': 'var', 'neighbours': 14}. Best is trial 31 with value: 0.7236852440988178.\n",
      "[I 2024-05-26 13:11:25,288] Trial 110 finished with value: 0.7145389026354032 and parameters: {'metric': 'euclidean', 'kernel': 'epanechnikov', 'window': 'var', 'neighbours': 14}. Best is trial 31 with value: 0.7236852440988178.\n",
      "[I 2024-05-26 13:11:25,600] Trial 111 finished with value: 0.7145389026354032 and parameters: {'metric': 'euclidean', 'kernel': 'epanechnikov', 'window': 'var', 'neighbours': 14}. Best is trial 31 with value: 0.7236852440988178.\n",
      "[I 2024-05-26 13:11:26,042] Trial 112 finished with value: 0.7236852440988178 and parameters: {'metric': 'euclidean', 'kernel': 'epanechnikov', 'window': 'var', 'neighbours': 15}. Best is trial 31 with value: 0.7236852440988178.\n",
      "[I 2024-05-26 13:11:26,424] Trial 113 finished with value: 0.7236852440988178 and parameters: {'metric': 'euclidean', 'kernel': 'epanechnikov', 'window': 'var', 'neighbours': 15}. Best is trial 31 with value: 0.7236852440988178.\n",
      "[I 2024-05-26 13:11:27,450] Trial 114 finished with value: 0.7236852440988178 and parameters: {'metric': 'euclidean', 'kernel': 'epanechnikov', 'window': 'var', 'neighbours': 15}. Best is trial 31 with value: 0.7236852440988178.\n",
      "[I 2024-05-26 13:11:28,008] Trial 115 finished with value: 0.6730097011115039 and parameters: {'metric': 'euclidean', 'kernel': 'epanechnikov', 'window': 'var', 'neighbours': 2}. Best is trial 31 with value: 0.7236852440988178.\n",
      "[I 2024-05-26 13:11:28,341] Trial 116 finished with value: 0.7236852440988178 and parameters: {'metric': 'euclidean', 'kernel': 'epanechnikov', 'window': 'var', 'neighbours': 15}. Best is trial 31 with value: 0.7236852440988178.\n",
      "[I 2024-05-26 13:11:28,406] Trial 117 finished with value: 0.7175876831232081 and parameters: {'metric': 'euclidean', 'kernel': 'epanechnikov', 'window': 'var', 'neighbours': 18}. Best is trial 31 with value: 0.7236852440988178.\n",
      "[I 2024-05-26 13:11:30,042] Trial 118 finished with value: 0.7175876831232081 and parameters: {'metric': 'euclidean', 'kernel': 'epanechnikov', 'window': 'var', 'neighbours': 18}. Best is trial 31 with value: 0.7236852440988178.\n",
      "[I 2024-05-26 13:11:30,281] Trial 119 finished with value: 0.7175876831232081 and parameters: {'metric': 'euclidean', 'kernel': 'epanechnikov', 'window': 'var', 'neighbours': 18}. Best is trial 31 with value: 0.7236852440988178.\n",
      "[I 2024-05-26 13:11:30,590] Trial 120 finished with value: 0.6730097011115039 and parameters: {'metric': 'euclidean', 'kernel': 'epanechnikov', 'window': 'var', 'neighbours': 2}. Best is trial 31 with value: 0.7236852440988178.\n",
      "[I 2024-05-26 13:11:30,995] Trial 121 finished with value: 0.7175876831232081 and parameters: {'metric': 'euclidean', 'kernel': 'epanechnikov', 'window': 'var', 'neighbours': 18}. Best is trial 31 with value: 0.7236852440988178.\n",
      "[I 2024-05-26 13:11:32,286] Trial 122 finished with value: 0.7175876831232081 and parameters: {'metric': 'euclidean', 'kernel': 'epanechnikov', 'window': 'var', 'neighbours': 18}. Best is trial 31 with value: 0.7236852440988178.\n",
      "[I 2024-05-26 13:11:32,859] Trial 123 finished with value: 0.7175876831232081 and parameters: {'metric': 'euclidean', 'kernel': 'epanechnikov', 'window': 'var', 'neighbours': 18}. Best is trial 31 with value: 0.7236852440988178.\n",
      "[I 2024-05-26 13:11:33,153] Trial 124 finished with value: 0.7175876831232081 and parameters: {'metric': 'euclidean', 'kernel': 'epanechnikov', 'window': 'var', 'neighbours': 17}. Best is trial 31 with value: 0.7236852440988178.\n",
      "[I 2024-05-26 13:11:33,214] Trial 125 finished with value: 0.7175876831232081 and parameters: {'metric': 'euclidean', 'kernel': 'epanechnikov', 'window': 'var', 'neighbours': 17}. Best is trial 31 with value: 0.7236852440988178.\n",
      "[I 2024-05-26 13:11:34,735] Trial 126 finished with value: 0.7236852440988178 and parameters: {'metric': 'euclidean', 'kernel': 'epanechnikov', 'window': 'var', 'neighbours': 15}. Best is trial 31 with value: 0.7236852440988178.\n",
      "[I 2024-05-26 13:11:34,736] Trial 127 finished with value: 0.7007334747260515 and parameters: {'metric': 'euclidean', 'kernel': 'epanechnikov', 'window': 'var', 'neighbours': 6}. Best is trial 31 with value: 0.7236852440988178.\n",
      "[I 2024-05-26 13:11:35,165] Trial 128 finished with value: 0.7236852440988178 and parameters: {'metric': 'euclidean', 'kernel': 'epanechnikov', 'window': 'var', 'neighbours': 15}. Best is trial 31 with value: 0.7236852440988178.\n",
      "[I 2024-05-26 13:11:36,117] Trial 129 finished with value: 0.7236852440988178 and parameters: {'metric': 'euclidean', 'kernel': 'epanechnikov', 'window': 'var', 'neighbours': 15}. Best is trial 31 with value: 0.7236852440988178.\n",
      "[I 2024-05-26 13:11:36,864] Trial 130 finished with value: 0.7236852440988178 and parameters: {'metric': 'euclidean', 'kernel': 'epanechnikov', 'window': 'var', 'neighbours': 15}. Best is trial 31 with value: 0.7236852440988178.\n",
      "[I 2024-05-26 13:11:37,286] Trial 131 finished with value: 0.7236852440988178 and parameters: {'metric': 'euclidean', 'kernel': 'epanechnikov', 'window': 'var', 'neighbours': 15}. Best is trial 31 with value: 0.7236852440988178.\n",
      "[I 2024-05-26 13:11:37,871] Trial 132 finished with value: 0.7236852440988178 and parameters: {'metric': 'euclidean', 'kernel': 'epanechnikov', 'window': 'var', 'neighbours': 15}. Best is trial 31 with value: 0.7236852440988178.\n",
      "[I 2024-05-26 13:11:37,890] Trial 133 finished with value: 0.7236852440988178 and parameters: {'metric': 'euclidean', 'kernel': 'epanechnikov', 'window': 'var', 'neighbours': 15}. Best is trial 31 with value: 0.7236852440988178.\n",
      "[I 2024-05-26 13:11:39,701] Trial 135 finished with value: 0.5559974078001649 and parameters: {'metric': 'euclidean', 'kernel': 'uniform', 'window': 'var', 'neighbours': 15}. Best is trial 31 with value: 0.7236852440988178.\n",
      "[I 2024-05-26 13:11:40,031] Trial 136 finished with value: 0.5559974078001649 and parameters: {'metric': 'euclidean', 'kernel': 'uniform', 'window': 'var', 'neighbours': 15}. Best is trial 31 with value: 0.7236852440988178.\n",
      "[I 2024-05-26 13:11:40,095] Trial 134 finished with value: 0.5559974078001649 and parameters: {'metric': 'euclidean', 'kernel': 'uniform', 'window': 'var', 'neighbours': 15}. Best is trial 31 with value: 0.7236852440988178.\n",
      "[I 2024-05-26 13:11:40,863] Trial 137 finished with value: 0.5559974078001649 and parameters: {'metric': 'euclidean', 'kernel': 'uniform', 'window': 'var', 'neighbours': 15}. Best is trial 31 with value: 0.7236852440988178.\n",
      "[I 2024-05-26 13:11:41,744] Trial 138 finished with value: 0.5559974078001649 and parameters: {'metric': 'euclidean', 'kernel': 'uniform', 'window': 'var', 'neighbours': 15}. Best is trial 31 with value: 0.7236852440988178.\n",
      "[I 2024-05-26 13:11:42,074] Trial 139 finished with value: 0.5559974078001649 and parameters: {'metric': 'euclidean', 'kernel': 'uniform', 'window': 'var', 'neighbours': 15}. Best is trial 31 with value: 0.7236852440988178.\n",
      "[I 2024-05-26 13:11:42,423] Trial 140 finished with value: 0.5390597384234712 and parameters: {'metric': 'euclidean', 'kernel': 'uniform', 'window': 'var', 'neighbours': 16}. Best is trial 31 with value: 0.7236852440988178.\n",
      "[I 2024-05-26 13:11:43,187] Trial 141 finished with value: 0.5390597384234712 and parameters: {'metric': 'euclidean', 'kernel': 'uniform', 'window': 'var', 'neighbours': 16}. Best is trial 31 with value: 0.7236852440988178.\n",
      "[I 2024-05-26 13:11:44,296] Trial 142 finished with value: 0.7145389026354032 and parameters: {'metric': 'euclidean', 'kernel': 'epanechnikov', 'window': 'var', 'neighbours': 16}. Best is trial 31 with value: 0.7236852440988178.\n",
      "[I 2024-05-26 13:11:45,468] Trial 144 finished with value: 0.7145389026354032 and parameters: {'metric': 'euclidean', 'kernel': 'epanechnikov', 'window': 'var', 'neighbours': 16}. Best is trial 31 with value: 0.7236852440988178.\n",
      "[I 2024-05-26 13:11:45,598] Trial 143 finished with value: 0.7145389026354032 and parameters: {'metric': 'euclidean', 'kernel': 'epanechnikov', 'window': 'var', 'neighbours': 16}. Best is trial 31 with value: 0.7236852440988178.\n",
      "[I 2024-05-26 13:11:46,347] Trial 145 finished with value: 0.7145389026354032 and parameters: {'metric': 'euclidean', 'kernel': 'epanechnikov', 'window': 'var', 'neighbours': 16}. Best is trial 31 with value: 0.7236852440988178.\n",
      "[I 2024-05-26 13:11:47,337] Trial 146 finished with value: 0.7145389026354032 and parameters: {'metric': 'euclidean', 'kernel': 'epanechnikov', 'window': 'var', 'neighbours': 16}. Best is trial 31 with value: 0.7236852440988178.\n",
      "[I 2024-05-26 13:11:47,776] Trial 147 finished with value: 0.7145389026354032 and parameters: {'metric': 'euclidean', 'kernel': 'epanechnikov', 'window': 'var', 'neighbours': 16}. Best is trial 31 with value: 0.7236852440988178.\n",
      "[I 2024-05-26 13:11:48,298] Trial 148 finished with value: 0.7145389026354032 and parameters: {'metric': 'euclidean', 'kernel': 'epanechnikov', 'window': 'var', 'neighbours': 16}. Best is trial 31 with value: 0.7236852440988178.\n",
      "[I 2024-05-26 13:11:48,547] Trial 149 finished with value: 0.7145389026354032 and parameters: {'metric': 'euclidean', 'kernel': 'epanechnikov', 'window': 'var', 'neighbours': 16}. Best is trial 31 with value: 0.7236852440988178.\n",
      "[I 2024-05-26 13:11:49,879] Trial 150 finished with value: 0.7145389026354032 and parameters: {'metric': 'euclidean', 'kernel': 'epanechnikov', 'window': 'var', 'neighbours': 16}. Best is trial 31 with value: 0.7236852440988178.\n",
      "[I 2024-05-26 13:11:50,905] Trial 151 finished with value: 0.7145389026354032 and parameters: {'metric': 'euclidean', 'kernel': 'epanechnikov', 'window': 'var', 'neighbours': 14}. Best is trial 31 with value: 0.7236852440988178.\n",
      "[I 2024-05-26 13:11:51,361] Trial 152 finished with value: 0.7145389026354032 and parameters: {'metric': 'euclidean', 'kernel': 'epanechnikov', 'window': 'var', 'neighbours': 14}. Best is trial 31 with value: 0.7236852440988178.\n",
      "[I 2024-05-26 13:11:52,251] Trial 154 finished with value: 0.7145389026354032 and parameters: {'metric': 'euclidean', 'kernel': 'epanechnikov', 'window': 'var', 'neighbours': 14}. Best is trial 31 with value: 0.7236852440988178.\n",
      "[I 2024-05-26 13:11:52,528] Trial 153 finished with value: 0.7236852440988178 and parameters: {'metric': 'euclidean', 'kernel': 'epanechnikov', 'window': 'var', 'neighbours': 15}. Best is trial 31 with value: 0.7236852440988178.\n",
      "[I 2024-05-26 13:11:53,335] Trial 156 finished with value: 0.7145389026354032 and parameters: {'metric': 'euclidean', 'kernel': 'epanechnikov', 'window': 'var', 'neighbours': 14}. Best is trial 31 with value: 0.7236852440988178.\n",
      "[I 2024-05-26 13:11:53,489] Trial 155 finished with value: 0.7114901221475983 and parameters: {'metric': 'euclidean', 'kernel': 'epanechnikov', 'window': 'var', 'neighbours': 19}. Best is trial 31 with value: 0.7236852440988178.\n",
      "[I 2024-05-26 13:11:54,742] Trial 157 finished with value: 0.7145389026354032 and parameters: {'metric': 'euclidean', 'kernel': 'epanechnikov', 'window': 'var', 'neighbours': 14}. Best is trial 31 with value: 0.7236852440988178.\n",
      "[I 2024-05-26 13:11:56,999] Trial 158 finished with value: 0.7145389026354032 and parameters: {'metric': 'euclidean', 'kernel': 'epanechnikov', 'window': 'var', 'neighbours': 14}. Best is trial 31 with value: 0.7236852440988178.\n",
      "[I 2024-05-26 13:11:58,615] Trial 166 finished with value: 0.4317190997996937 and parameters: {'metric': 'euclidean', 'kernel': 'epanechnikov', 'window': 'fixed', 'radius': 1.4028525352841872}. Best is trial 31 with value: 0.7236852440988178.\n",
      "[I 2024-05-26 13:11:58,639] Trial 160 finished with value: 0.7236852440988178 and parameters: {'metric': 'euclidean', 'kernel': 'epanechnikov', 'window': 'var', 'neighbours': 15}. Best is trial 31 with value: 0.7236852440988178.\n",
      "[I 2024-05-26 13:11:58,644] Trial 159 finished with value: 0.7145389026354032 and parameters: {'metric': 'euclidean', 'kernel': 'epanechnikov', 'window': 'var', 'neighbours': 14}. Best is trial 31 with value: 0.7236852440988178.\n",
      "[I 2024-05-26 13:11:59,767] Trial 162 finished with value: 0.7236852440988178 and parameters: {'metric': 'euclidean', 'kernel': 'epanechnikov', 'window': 'var', 'neighbours': 15}. Best is trial 31 with value: 0.7236852440988178.\n",
      "[I 2024-05-26 13:12:00,112] Trial 161 finished with value: 0.7236852440988178 and parameters: {'metric': 'euclidean', 'kernel': 'epanechnikov', 'window': 'var', 'neighbours': 15}. Best is trial 31 with value: 0.7236852440988178.\n",
      "[I 2024-05-26 13:12:01,273] Trial 163 finished with value: 0.6529397902674678 and parameters: {'metric': 'euclidean', 'kernel': 'gaussian', 'window': 'var', 'neighbours': 15}. Best is trial 31 with value: 0.7236852440988178.\n",
      "[I 2024-05-26 13:12:01,774] Trial 164 finished with value: 0.6529397902674678 and parameters: {'metric': 'euclidean', 'kernel': 'gaussian', 'window': 'var', 'neighbours': 15}. Best is trial 31 with value: 0.7236852440988178.\n",
      "[I 2024-05-26 13:12:03,048] Trial 165 finished with value: 0.6529397902674678 and parameters: {'metric': 'euclidean', 'kernel': 'gaussian', 'window': 'var', 'neighbours': 15}. Best is trial 31 with value: 0.7236852440988178.\n",
      "[I 2024-05-26 13:12:05,198] Trial 168 finished with value: 0.6529397902674678 and parameters: {'metric': 'euclidean', 'kernel': 'gaussian', 'window': 'var', 'neighbours': 15}. Best is trial 31 with value: 0.7236852440988178.\n",
      "[I 2024-05-26 13:12:05,414] Trial 167 finished with value: 0.6529397902674678 and parameters: {'metric': 'euclidean', 'kernel': 'gaussian', 'window': 'var', 'neighbours': 15}. Best is trial 31 with value: 0.7236852440988178.\n",
      "[I 2024-05-26 13:12:05,448] Trial 169 finished with value: 0.6529397902674678 and parameters: {'metric': 'euclidean', 'kernel': 'gaussian', 'window': 'var', 'neighbours': 15}. Best is trial 31 with value: 0.7236852440988178.\n",
      "[I 2024-05-26 13:12:05,667] Trial 170 finished with value: 0.6529397902674678 and parameters: {'metric': 'euclidean', 'kernel': 'gaussian', 'window': 'var', 'neighbours': 15}. Best is trial 31 with value: 0.7236852440988178.\n",
      "[I 2024-05-26 13:12:05,919] Trial 171 finished with value: 0.6529397902674678 and parameters: {'metric': 'euclidean', 'kernel': 'gaussian', 'window': 'var', 'neighbours': 15}. Best is trial 31 with value: 0.7236852440988178.\n",
      "[I 2024-05-26 13:12:06,781] Trial 173 finished with value: 0.7236852440988178 and parameters: {'metric': 'euclidean', 'kernel': 'epanechnikov', 'window': 'var', 'neighbours': 15}. Best is trial 31 with value: 0.7236852440988178.\n",
      "[I 2024-05-26 13:12:06,868] Trial 172 finished with value: 0.7236852440988178 and parameters: {'metric': 'euclidean', 'kernel': 'epanechnikov', 'window': 'var', 'neighbours': 15}. Best is trial 31 with value: 0.7236852440988178.\n",
      "[I 2024-05-26 13:12:07,575] Trial 174 finished with value: 0.7236852440988178 and parameters: {'metric': 'euclidean', 'kernel': 'epanechnikov', 'window': 'var', 'neighbours': 15}. Best is trial 31 with value: 0.7236852440988178.\n",
      "[I 2024-05-26 13:12:09,921] Trial 176 finished with value: 0.7175876831232081 and parameters: {'metric': 'euclidean', 'kernel': 'epanechnikov', 'window': 'var', 'neighbours': 17}. Best is trial 31 with value: 0.7236852440988178.\n",
      "[I 2024-05-26 13:12:10,033] Trial 177 finished with value: 0.7175876831232081 and parameters: {'metric': 'euclidean', 'kernel': 'epanechnikov', 'window': 'var', 'neighbours': 17}. Best is trial 31 with value: 0.7236852440988178.\n",
      "[I 2024-05-26 13:12:10,147] Trial 175 finished with value: 0.7236852440988178 and parameters: {'metric': 'euclidean', 'kernel': 'epanechnikov', 'window': 'var', 'neighbours': 15}. Best is trial 31 with value: 0.7236852440988178.\n",
      "[I 2024-05-26 13:12:10,579] Trial 178 finished with value: 0.7236852440988178 and parameters: {'metric': 'euclidean', 'kernel': 'epanechnikov', 'window': 'var', 'neighbours': 15}. Best is trial 31 with value: 0.7236852440988178.\n",
      "[I 2024-05-26 13:12:10,670] Trial 179 finished with value: 0.7236852440988178 and parameters: {'metric': 'euclidean', 'kernel': 'epanechnikov', 'window': 'var', 'neighbours': 15}. Best is trial 31 with value: 0.7236852440988178.\n",
      "[I 2024-05-26 13:12:14,533] Trial 181 finished with value: 0.7145389026354032 and parameters: {'metric': 'euclidean', 'kernel': 'epanechnikov', 'window': 'var', 'neighbours': 14}. Best is trial 31 with value: 0.7236852440988178.\n",
      "[I 2024-05-26 13:12:17,734] Trial 180 finished with value: 0.7145389026354032 and parameters: {'metric': 'euclidean', 'kernel': 'epanechnikov', 'window': 'var', 'neighbours': 14}. Best is trial 31 with value: 0.7236852440988178.\n",
      "[I 2024-05-26 13:12:18,337] Trial 182 finished with value: 0.7145389026354032 and parameters: {'metric': 'euclidean', 'kernel': 'epanechnikov', 'window': 'var', 'neighbours': 14}. Best is trial 31 with value: 0.7236852440988178.\n",
      "[I 2024-05-26 13:12:55,091] Trial 183 finished with value: 0.7145389026354032 and parameters: {'metric': 'euclidean', 'kernel': 'epanechnikov', 'window': 'var', 'neighbours': 14}. Best is trial 31 with value: 0.7236852440988178.\n",
      "[I 2024-05-26 13:13:11,815] Trial 187 finished with value: 0.7145389026354032 and parameters: {'metric': 'euclidean', 'kernel': 'epanechnikov', 'window': 'var', 'neighbours': 14}. Best is trial 31 with value: 0.7236852440988178.\n",
      "[I 2024-05-26 13:13:26,346] Trial 188 finished with value: 0.7145389026354032 and parameters: {'metric': 'euclidean', 'kernel': 'epanechnikov', 'window': 'var', 'neighbours': 16}. Best is trial 31 with value: 0.7236852440988178.\n",
      "[I 2024-05-26 13:13:27,278] Trial 184 finished with value: 0.6729556969482738 and parameters: {'metric': 'cosine', 'kernel': 'epanechnikov', 'window': 'var', 'neighbours': 14}. Best is trial 31 with value: 0.7236852440988178.\n",
      "[I 2024-05-26 13:13:30,467] Trial 185 finished with value: 0.6729556969482738 and parameters: {'metric': 'cosine', 'kernel': 'epanechnikov', 'window': 'var', 'neighbours': 14}. Best is trial 31 with value: 0.7236852440988178.\n",
      "[I 2024-05-26 13:13:36,675] Trial 195 finished with value: 0.4162199049526727 and parameters: {'metric': 'euclidean', 'kernel': 'epanechnikov', 'window': 'fixed', 'radius': 1.309614086942852}. Best is trial 31 with value: 0.7236852440988178.\n",
      "[I 2024-05-26 13:13:44,668] Trial 186 finished with value: 0.6729556969482738 and parameters: {'metric': 'cosine', 'kernel': 'epanechnikov', 'window': 'var', 'neighbours': 14}. Best is trial 31 with value: 0.7236852440988178.\n",
      "[I 2024-05-26 13:13:53,340] Trial 190 finished with value: 0.6758915596402341 and parameters: {'metric': 'cosine', 'kernel': 'epanechnikov', 'window': 'var', 'neighbours': 16}. Best is trial 31 with value: 0.7236852440988178.\n",
      "[I 2024-05-26 13:13:57,036] Trial 189 finished with value: 0.6758915596402341 and parameters: {'metric': 'cosine', 'kernel': 'epanechnikov', 'window': 'var', 'neighbours': 16}. Best is trial 31 with value: 0.7236852440988178.\n",
      "[I 2024-05-26 13:14:05,572] Trial 193 finished with value: 0.7145389026354032 and parameters: {'metric': 'euclidean', 'kernel': 'epanechnikov', 'window': 'var', 'neighbours': 16}. Best is trial 31 with value: 0.7236852440988178.\n",
      "[I 2024-05-26 13:14:06,228] Trial 194 finished with value: 0.7145389026354032 and parameters: {'metric': 'euclidean', 'kernel': 'epanechnikov', 'window': 'var', 'neighbours': 16}. Best is trial 31 with value: 0.7236852440988178.\n",
      "[I 2024-05-26 13:14:08,645] Trial 196 finished with value: 0.7145389026354032 and parameters: {'metric': 'euclidean', 'kernel': 'epanechnikov', 'window': 'var', 'neighbours': 16}. Best is trial 31 with value: 0.7236852440988178.\n",
      "[I 2024-05-26 13:14:11,993] Trial 197 finished with value: 0.7145389026354032 and parameters: {'metric': 'euclidean', 'kernel': 'epanechnikov', 'window': 'var', 'neighbours': 16}. Best is trial 31 with value: 0.7236852440988178.\n",
      "[I 2024-05-26 13:14:16,929] Trial 198 finished with value: 0.7236852440988178 and parameters: {'metric': 'euclidean', 'kernel': 'epanechnikov', 'window': 'var', 'neighbours': 15}. Best is trial 31 with value: 0.7236852440988178.\n",
      "[I 2024-05-26 13:14:21,922] Trial 199 finished with value: 0.7236852440988178 and parameters: {'metric': 'euclidean', 'kernel': 'epanechnikov', 'window': 'var', 'neighbours': 15}. Best is trial 31 with value: 0.7236852440988178.\n",
      "[I 2024-05-26 13:14:23,680] Trial 191 finished with value: 0.6758915596402341 and parameters: {'metric': 'cosine', 'kernel': 'epanechnikov', 'window': 'var', 'neighbours': 16}. Best is trial 31 with value: 0.7236852440988178.\n",
      "[I 2024-05-26 13:14:26,902] Trial 200 finished with value: 0.7236852440988178 and parameters: {'metric': 'euclidean', 'kernel': 'epanechnikov', 'window': 'var', 'neighbours': 15}. Best is trial 31 with value: 0.7236852440988178.\n",
      "[I 2024-05-26 13:14:27,575] Trial 202 finished with value: 0.7236852440988178 and parameters: {'metric': 'euclidean', 'kernel': 'epanechnikov', 'window': 'var', 'neighbours': 15}. Best is trial 31 with value: 0.7236852440988178.\n",
      "[I 2024-05-26 13:14:27,924] Trial 192 finished with value: 0.6758915596402341 and parameters: {'metric': 'cosine', 'kernel': 'epanechnikov', 'window': 'var', 'neighbours': 16}. Best is trial 31 with value: 0.7236852440988178.\n",
      "[I 2024-05-26 13:14:28,045] Trial 201 finished with value: 0.7236852440988178 and parameters: {'metric': 'euclidean', 'kernel': 'epanechnikov', 'window': 'var', 'neighbours': 15}. Best is trial 31 with value: 0.7236852440988178.\n",
      "[I 2024-05-26 13:14:28,679] Trial 203 finished with value: 0.7236852440988178 and parameters: {'metric': 'euclidean', 'kernel': 'epanechnikov', 'window': 'var', 'neighbours': 15}. Best is trial 31 with value: 0.7236852440988178.\n",
      "[I 2024-05-26 13:14:29,488] Trial 204 finished with value: 0.7236852440988178 and parameters: {'metric': 'euclidean', 'kernel': 'epanechnikov', 'window': 'var', 'neighbours': 15}. Best is trial 31 with value: 0.7236852440988178.\n",
      "[I 2024-05-26 13:14:30,803] Trial 205 finished with value: 0.7236852440988178 and parameters: {'metric': 'euclidean', 'kernel': 'epanechnikov', 'window': 'var', 'neighbours': 15}. Best is trial 31 with value: 0.7236852440988178.\n",
      "[I 2024-05-26 13:14:31,733] Trial 206 finished with value: 0.7236852440988178 and parameters: {'metric': 'euclidean', 'kernel': 'epanechnikov', 'window': 'var', 'neighbours': 15}. Best is trial 31 with value: 0.7236852440988178.\n",
      "[I 2024-05-26 13:14:32,519] Trial 207 finished with value: 0.7236852440988178 and parameters: {'metric': 'euclidean', 'kernel': 'epanechnikov', 'window': 'var', 'neighbours': 15}. Best is trial 31 with value: 0.7236852440988178.\n",
      "[I 2024-05-26 13:14:32,547] Trial 208 finished with value: 0.7236852440988178 and parameters: {'metric': 'euclidean', 'kernel': 'epanechnikov', 'window': 'var', 'neighbours': 15}. Best is trial 31 with value: 0.7236852440988178.\n",
      "[I 2024-05-26 13:14:32,845] Trial 209 finished with value: 0.7236852440988178 and parameters: {'metric': 'euclidean', 'kernel': 'epanechnikov', 'window': 'var', 'neighbours': 15}. Best is trial 31 with value: 0.7236852440988178.\n",
      "[I 2024-05-26 13:14:33,141] Trial 210 finished with value: 0.7236852440988178 and parameters: {'metric': 'euclidean', 'kernel': 'epanechnikov', 'window': 'var', 'neighbours': 15}. Best is trial 31 with value: 0.7236852440988178.\n",
      "[I 2024-05-26 13:14:34,168] Trial 212 finished with value: 0.7236852440988178 and parameters: {'metric': 'euclidean', 'kernel': 'epanechnikov', 'window': 'var', 'neighbours': 15}. Best is trial 31 with value: 0.7236852440988178.\n",
      "[I 2024-05-26 13:14:34,186] Trial 211 finished with value: 0.7236852440988178 and parameters: {'metric': 'euclidean', 'kernel': 'epanechnikov', 'window': 'var', 'neighbours': 15}. Best is trial 31 with value: 0.7236852440988178.\n",
      "[I 2024-05-26 13:14:37,454] Trial 213 finished with value: 0.7236852440988178 and parameters: {'metric': 'euclidean', 'kernel': 'epanechnikov', 'window': 'var', 'neighbours': 15}. Best is trial 31 with value: 0.7236852440988178.\n",
      "[I 2024-05-26 13:14:38,129] Trial 214 finished with value: 0.7236852440988178 and parameters: {'metric': 'euclidean', 'kernel': 'epanechnikov', 'window': 'var', 'neighbours': 15}. Best is trial 31 with value: 0.7236852440988178.\n",
      "[I 2024-05-26 13:14:38,916] Trial 215 finished with value: 0.7236852440988178 and parameters: {'metric': 'euclidean', 'kernel': 'epanechnikov', 'window': 'var', 'neighbours': 15}. Best is trial 31 with value: 0.7236852440988178.\n",
      "[I 2024-05-26 13:14:40,129] Trial 216 finished with value: 0.6947782883625938 and parameters: {'metric': 'euclidean', 'kernel': 'epanechnikov', 'window': 'var', 'neighbours': 8}. Best is trial 31 with value: 0.7236852440988178.\n",
      "[I 2024-05-26 13:14:40,325] Trial 217 finished with value: 0.7236852440988178 and parameters: {'metric': 'euclidean', 'kernel': 'epanechnikov', 'window': 'var', 'neighbours': 15}. Best is trial 31 with value: 0.7236852440988178.\n",
      "[I 2024-05-26 13:14:40,700] Trial 218 finished with value: 0.7236852440988178 and parameters: {'metric': 'euclidean', 'kernel': 'epanechnikov', 'window': 'var', 'neighbours': 15}. Best is trial 31 with value: 0.7236852440988178.\n",
      "[I 2024-05-26 13:14:42,362] Trial 220 finished with value: 0.7236852440988178 and parameters: {'metric': 'euclidean', 'kernel': 'epanechnikov', 'window': 'var', 'neighbours': 15}. Best is trial 31 with value: 0.7236852440988178.\n",
      "[I 2024-05-26 13:14:42,925] Trial 219 finished with value: 0.7236852440988178 and parameters: {'metric': 'euclidean', 'kernel': 'epanechnikov', 'window': 'var', 'neighbours': 15}. Best is trial 31 with value: 0.7236852440988178.\n",
      "[I 2024-05-26 13:14:43,653] Trial 227 finished with value: 0.3207454538313499 and parameters: {'metric': 'euclidean', 'kernel': 'triangular', 'window': 'fixed', 'radius': 0.6182418924227353}. Best is trial 31 with value: 0.7236852440988178.\n",
      "[I 2024-05-26 13:14:44,888] Trial 221 finished with value: 0.6808599426573976 and parameters: {'metric': 'euclidean', 'kernel': 'epanechnikov', 'window': 'var', 'neighbours': 7}. Best is trial 31 with value: 0.7236852440988178.\n",
      "[I 2024-05-26 13:14:45,215] Trial 222 finished with value: 0.6808599426573976 and parameters: {'metric': 'euclidean', 'kernel': 'epanechnikov', 'window': 'var', 'neighbours': 7}. Best is trial 31 with value: 0.7236852440988178.\n",
      "[I 2024-05-26 13:14:45,788] Trial 223 finished with value: 0.7007334747260515 and parameters: {'metric': 'euclidean', 'kernel': 'epanechnikov', 'window': 'var', 'neighbours': 6}. Best is trial 31 with value: 0.7236852440988178.\n",
      "[I 2024-05-26 13:14:46,718] Trial 224 finished with value: 0.7145389026354032 and parameters: {'metric': 'euclidean', 'kernel': 'epanechnikov', 'window': 'var', 'neighbours': 14}. Best is trial 31 with value: 0.7236852440988178.\n",
      "[I 2024-05-26 13:14:48,752] Trial 226 finished with value: 0.7145389026354032 and parameters: {'metric': 'euclidean', 'kernel': 'epanechnikov', 'window': 'var', 'neighbours': 14}. Best is trial 31 with value: 0.7236852440988178.\n",
      "[I 2024-05-26 13:14:49,545] Trial 225 finished with value: 0.7145389026354032 and parameters: {'metric': 'euclidean', 'kernel': 'epanechnikov', 'window': 'var', 'neighbours': 14}. Best is trial 31 with value: 0.7236852440988178.\n",
      "[I 2024-05-26 13:14:51,250] Trial 228 finished with value: 0.7145389026354032 and parameters: {'metric': 'euclidean', 'kernel': 'epanechnikov', 'window': 'var', 'neighbours': 14}. Best is trial 31 with value: 0.7236852440988178.\n",
      "[I 2024-05-26 13:14:51,710] Trial 229 finished with value: 0.7145389026354032 and parameters: {'metric': 'euclidean', 'kernel': 'epanechnikov', 'window': 'var', 'neighbours': 14}. Best is trial 31 with value: 0.7236852440988178.\n",
      "[I 2024-05-26 13:14:52,351] Trial 230 finished with value: 0.7145389026354032 and parameters: {'metric': 'euclidean', 'kernel': 'epanechnikov', 'window': 'var', 'neighbours': 14}. Best is trial 31 with value: 0.7236852440988178.\n",
      "[I 2024-05-26 13:14:52,675] Trial 231 finished with value: 0.7145389026354032 and parameters: {'metric': 'euclidean', 'kernel': 'epanechnikov', 'window': 'var', 'neighbours': 14}. Best is trial 31 with value: 0.7236852440988178.\n",
      "[I 2024-05-26 13:14:52,876] Trial 232 finished with value: 0.7145389026354032 and parameters: {'metric': 'euclidean', 'kernel': 'epanechnikov', 'window': 'var', 'neighbours': 14}. Best is trial 31 with value: 0.7236852440988178.\n",
      "[I 2024-05-26 13:14:54,364] Trial 233 finished with value: 0.7145389026354032 and parameters: {'metric': 'euclidean', 'kernel': 'epanechnikov', 'window': 'var', 'neighbours': 14}. Best is trial 31 with value: 0.7236852440988178.\n",
      "[I 2024-05-26 13:14:54,420] Trial 235 finished with value: 0.7236852440988178 and parameters: {'metric': 'euclidean', 'kernel': 'epanechnikov', 'window': 'var', 'neighbours': 15}. Best is trial 31 with value: 0.7236852440988178.\n",
      "[I 2024-05-26 13:14:54,952] Trial 234 finished with value: 0.7236852440988178 and parameters: {'metric': 'euclidean', 'kernel': 'epanechnikov', 'window': 'var', 'neighbours': 15}. Best is trial 31 with value: 0.7236852440988178.\n",
      "[I 2024-05-26 13:14:57,752] Trial 236 finished with value: 0.7145389026354032 and parameters: {'metric': 'euclidean', 'kernel': 'epanechnikov', 'window': 'var', 'neighbours': 16}. Best is trial 31 with value: 0.7236852440988178.\n",
      "[I 2024-05-26 13:14:57,806] Trial 237 finished with value: 0.7145389026354032 and parameters: {'metric': 'euclidean', 'kernel': 'epanechnikov', 'window': 'var', 'neighbours': 16}. Best is trial 31 with value: 0.7236852440988178.\n",
      "[I 2024-05-26 13:14:58,238] Trial 238 finished with value: 0.7236852440988178 and parameters: {'metric': 'euclidean', 'kernel': 'epanechnikov', 'window': 'var', 'neighbours': 15}. Best is trial 31 with value: 0.7236852440988178.\n",
      "[I 2024-05-26 13:14:58,593] Trial 239 finished with value: 0.7236852440988178 and parameters: {'metric': 'euclidean', 'kernel': 'epanechnikov', 'window': 'var', 'neighbours': 15}. Best is trial 31 with value: 0.7236852440988178.\n",
      "[I 2024-05-26 13:14:58,897] Trial 240 finished with value: 0.7236852440988178 and parameters: {'metric': 'euclidean', 'kernel': 'epanechnikov', 'window': 'var', 'neighbours': 15}. Best is trial 31 with value: 0.7236852440988178.\n",
      "[I 2024-05-26 13:15:00,336] Trial 242 finished with value: 0.7236852440988178 and parameters: {'metric': 'euclidean', 'kernel': 'epanechnikov', 'window': 'var', 'neighbours': 15}. Best is trial 31 with value: 0.7236852440988178.\n",
      "[I 2024-05-26 13:15:00,342] Trial 241 finished with value: 0.7236852440988178 and parameters: {'metric': 'euclidean', 'kernel': 'epanechnikov', 'window': 'var', 'neighbours': 15}. Best is trial 31 with value: 0.7236852440988178.\n",
      "[I 2024-05-26 13:15:00,404] Trial 243 finished with value: 0.7145389026354032 and parameters: {'metric': 'euclidean', 'kernel': 'epanechnikov', 'window': 'var', 'neighbours': 16}. Best is trial 31 with value: 0.7236852440988178.\n",
      "[I 2024-05-26 13:15:02,864] Trial 244 finished with value: 0.7236852440988178 and parameters: {'metric': 'euclidean', 'kernel': 'epanechnikov', 'window': 'var', 'neighbours': 15}. Best is trial 31 with value: 0.7236852440988178.\n",
      "[I 2024-05-26 13:15:03,398] Trial 245 finished with value: 0.7236852440988178 and parameters: {'metric': 'euclidean', 'kernel': 'epanechnikov', 'window': 'var', 'neighbours': 15}. Best is trial 31 with value: 0.7236852440988178.\n",
      "[I 2024-05-26 13:15:04,062] Trial 246 finished with value: 0.7236852440988178 and parameters: {'metric': 'euclidean', 'kernel': 'epanechnikov', 'window': 'var', 'neighbours': 15}. Best is trial 31 with value: 0.7236852440988178.\n",
      "[I 2024-05-26 13:15:04,867] Trial 247 finished with value: 0.7236852440988178 and parameters: {'metric': 'euclidean', 'kernel': 'epanechnikov', 'window': 'var', 'neighbours': 15}. Best is trial 31 with value: 0.7236852440988178.\n",
      "[I 2024-05-26 13:15:05,288] Trial 248 finished with value: 0.7236852440988178 and parameters: {'metric': 'euclidean', 'kernel': 'epanechnikov', 'window': 'var', 'neighbours': 15}. Best is trial 31 with value: 0.7236852440988178.\n",
      "[I 2024-05-26 13:15:06,422] Trial 250 finished with value: 0.7236852440988178 and parameters: {'metric': 'euclidean', 'kernel': 'epanechnikov', 'window': 'var', 'neighbours': 15}. Best is trial 31 with value: 0.7236852440988178.\n",
      "[I 2024-05-26 13:15:06,695] Trial 251 finished with value: 0.7236852440988178 and parameters: {'metric': 'euclidean', 'kernel': 'epanechnikov', 'window': 'var', 'neighbours': 15}. Best is trial 31 with value: 0.7236852440988178.\n",
      "[I 2024-05-26 13:15:06,990] Trial 249 finished with value: 0.7236852440988178 and parameters: {'metric': 'euclidean', 'kernel': 'epanechnikov', 'window': 'var', 'neighbours': 15}. Best is trial 31 with value: 0.7236852440988178.\n",
      "[I 2024-05-26 13:15:09,203] Trial 252 finished with value: 0.7236852440988178 and parameters: {'metric': 'euclidean', 'kernel': 'epanechnikov', 'window': 'var', 'neighbours': 15}. Best is trial 31 with value: 0.7236852440988178.\n",
      "[I 2024-05-26 13:15:09,588] Trial 253 finished with value: 0.7236852440988178 and parameters: {'metric': 'euclidean', 'kernel': 'epanechnikov', 'window': 'var', 'neighbours': 15}. Best is trial 31 with value: 0.7236852440988178.\n",
      "[I 2024-05-26 13:15:10,154] Trial 254 finished with value: 0.7236852440988178 and parameters: {'metric': 'euclidean', 'kernel': 'epanechnikov', 'window': 'var', 'neighbours': 15}. Best is trial 31 with value: 0.7236852440988178.\n",
      "[I 2024-05-26 13:15:11,011] Trial 260 finished with value: 0.4748831546286478 and parameters: {'metric': 'euclidean', 'kernel': 'epanechnikov', 'window': 'fixed', 'radius': 1.6809994240429225}. Best is trial 31 with value: 0.7236852440988178.\n",
      "[I 2024-05-26 13:15:11,683] Trial 262 finished with value: 0.48137838262440596 and parameters: {'metric': 'chebyshev', 'kernel': 'epanechnikov', 'window': 'fixed', 'radius': 1.2676395594134882}. Best is trial 31 with value: 0.7236852440988178.\n",
      "[I 2024-05-26 13:15:11,990] Trial 256 finished with value: 0.7145389026354032 and parameters: {'metric': 'euclidean', 'kernel': 'epanechnikov', 'window': 'var', 'neighbours': 16}. Best is trial 31 with value: 0.7236852440988178.\n",
      "[I 2024-05-26 13:15:12,103] Trial 255 finished with value: 0.7145389026354032 and parameters: {'metric': 'euclidean', 'kernel': 'epanechnikov', 'window': 'var', 'neighbours': 16}. Best is trial 31 with value: 0.7236852440988178.\n",
      "[I 2024-05-26 13:15:12,987] Trial 259 finished with value: 0.7145389026354032 and parameters: {'metric': 'euclidean', 'kernel': 'epanechnikov', 'window': 'var', 'neighbours': 16}. Best is trial 31 with value: 0.7236852440988178.\n",
      "[I 2024-05-26 13:15:13,093] Trial 258 finished with value: 0.7145389026354032 and parameters: {'metric': 'euclidean', 'kernel': 'epanechnikov', 'window': 'var', 'neighbours': 16}. Best is trial 31 with value: 0.7236852440988178.\n",
      "[I 2024-05-26 13:15:13,390] Trial 257 finished with value: 0.7145389026354032 and parameters: {'metric': 'euclidean', 'kernel': 'epanechnikov', 'window': 'var', 'neighbours': 16}. Best is trial 31 with value: 0.7236852440988178.\n",
      "[I 2024-05-26 13:15:15,291] Trial 261 finished with value: 0.6608440359765917 and parameters: {'metric': 'chebyshev', 'kernel': 'epanechnikov', 'window': 'var', 'neighbours': 16}. Best is trial 31 with value: 0.7236852440988178.\n",
      "[I 2024-05-26 13:15:15,646] Trial 263 finished with value: 0.674620007069636 and parameters: {'metric': 'chebyshev', 'kernel': 'triangular', 'window': 'var', 'neighbours': 16}. Best is trial 31 with value: 0.7236852440988178.\n",
      "[I 2024-05-26 13:15:16,355] Trial 265 finished with value: 0.7175876831232081 and parameters: {'metric': 'euclidean', 'kernel': 'triangular', 'window': 'var', 'neighbours': 16}. Best is trial 31 with value: 0.7236852440988178.\n",
      "[I 2024-05-26 13:15:16,605] Trial 264 finished with value: 0.7175876831232081 and parameters: {'metric': 'euclidean', 'kernel': 'triangular', 'window': 'var', 'neighbours': 16}. Best is trial 31 with value: 0.7236852440988178.\n",
      "[I 2024-05-26 13:15:16,745] Trial 266 finished with value: 0.7175876831232081 and parameters: {'metric': 'euclidean', 'kernel': 'triangular', 'window': 'var', 'neighbours': 16}. Best is trial 31 with value: 0.7236852440988178.\n",
      "[I 2024-05-26 13:15:17,917] Trial 268 finished with value: 0.7145389026354032 and parameters: {'metric': 'euclidean', 'kernel': 'triangular', 'window': 'var', 'neighbours': 15}. Best is trial 31 with value: 0.7236852440988178.\n",
      "[I 2024-05-26 13:15:18,144] Trial 267 finished with value: 0.7236852440988178 and parameters: {'metric': 'euclidean', 'kernel': 'epanechnikov', 'window': 'var', 'neighbours': 15}. Best is trial 31 with value: 0.7236852440988178.\n",
      "[I 2024-05-26 13:15:18,525] Trial 269 finished with value: 0.7145389026354032 and parameters: {'metric': 'euclidean', 'kernel': 'triangular', 'window': 'var', 'neighbours': 15}. Best is trial 31 with value: 0.7236852440988178.\n",
      "[I 2024-05-26 13:15:20,546] Trial 270 finished with value: 0.7236852440988178 and parameters: {'metric': 'euclidean', 'kernel': 'epanechnikov', 'window': 'var', 'neighbours': 15}. Best is trial 31 with value: 0.7236852440988178.\n",
      "[I 2024-05-26 13:15:21,260] Trial 271 finished with value: 0.7236852440988178 and parameters: {'metric': 'euclidean', 'kernel': 'epanechnikov', 'window': 'var', 'neighbours': 15}. Best is trial 31 with value: 0.7236852440988178.\n",
      "[I 2024-05-26 13:15:21,576] Trial 273 finished with value: 0.7068310357016613 and parameters: {'metric': 'euclidean', 'kernel': 'epanechnikov', 'window': 'var', 'neighbours': 4}. Best is trial 31 with value: 0.7236852440988178.\n",
      "[I 2024-05-26 13:15:21,745] Trial 272 finished with value: 0.7236852440988178 and parameters: {'metric': 'euclidean', 'kernel': 'epanechnikov', 'window': 'var', 'neighbours': 15}. Best is trial 31 with value: 0.7236852440988178.\n",
      "[I 2024-05-26 13:15:21,990] Trial 274 finished with value: 0.7236852440988178 and parameters: {'metric': 'euclidean', 'kernel': 'epanechnikov', 'window': 'var', 'neighbours': 15}. Best is trial 31 with value: 0.7236852440988178.\n",
      "[I 2024-05-26 13:15:23,131] Trial 275 finished with value: 0.7236852440988178 and parameters: {'metric': 'euclidean', 'kernel': 'epanechnikov', 'window': 'var', 'neighbours': 15}. Best is trial 31 with value: 0.7236852440988178.\n",
      "[I 2024-05-26 13:15:23,681] Trial 276 finished with value: 0.7236852440988178 and parameters: {'metric': 'euclidean', 'kernel': 'epanechnikov', 'window': 'var', 'neighbours': 15}. Best is trial 31 with value: 0.7236852440988178.\n",
      "[I 2024-05-26 13:15:24,085] Trial 277 finished with value: 0.7236852440988178 and parameters: {'metric': 'euclidean', 'kernel': 'epanechnikov', 'window': 'var', 'neighbours': 15}. Best is trial 31 with value: 0.7236852440988178.\n",
      "[I 2024-05-26 13:15:25,851] Trial 278 finished with value: 0.7145389026354032 and parameters: {'metric': 'euclidean', 'kernel': 'epanechnikov', 'window': 'var', 'neighbours': 14}. Best is trial 31 with value: 0.7236852440988178.\n",
      "[I 2024-05-26 13:15:26,700] Trial 280 finished with value: 0.7145389026354032 and parameters: {'metric': 'euclidean', 'kernel': 'epanechnikov', 'window': 'var', 'neighbours': 14}. Best is trial 31 with value: 0.7236852440988178.\n",
      "[I 2024-05-26 13:15:26,816] Trial 279 finished with value: 0.7145389026354032 and parameters: {'metric': 'euclidean', 'kernel': 'epanechnikov', 'window': 'var', 'neighbours': 14}. Best is trial 31 with value: 0.7236852440988178.\n",
      "[I 2024-05-26 13:15:27,159] Trial 281 finished with value: 0.7145389026354032 and parameters: {'metric': 'euclidean', 'kernel': 'epanechnikov', 'window': 'var', 'neighbours': 14}. Best is trial 31 with value: 0.7236852440988178.\n",
      "[I 2024-05-26 13:15:27,448] Trial 282 finished with value: 0.7145389026354032 and parameters: {'metric': 'euclidean', 'kernel': 'epanechnikov', 'window': 'var', 'neighbours': 14}. Best is trial 31 with value: 0.7236852440988178.\n",
      "[I 2024-05-26 13:15:28,121] Trial 283 finished with value: 0.7145389026354032 and parameters: {'metric': 'euclidean', 'kernel': 'epanechnikov', 'window': 'var', 'neighbours': 14}. Best is trial 31 with value: 0.7236852440988178.\n",
      "[I 2024-05-26 13:15:28,595] Trial 285 finished with value: 0.7053925611719886 and parameters: {'metric': 'euclidean', 'kernel': 'epanechnikov', 'window': 'var', 'neighbours': 11}. Best is trial 31 with value: 0.7236852440988178.\n",
      "[I 2024-05-26 13:15:28,889] Trial 284 finished with value: 0.7145389026354032 and parameters: {'metric': 'euclidean', 'kernel': 'epanechnikov', 'window': 'var', 'neighbours': 14}. Best is trial 31 with value: 0.7236852440988178.\n",
      "[I 2024-05-26 13:15:30,685] Trial 286 finished with value: 0.7053925611719886 and parameters: {'metric': 'euclidean', 'kernel': 'epanechnikov', 'window': 'var', 'neighbours': 11}. Best is trial 31 with value: 0.7236852440988178.\n",
      "[I 2024-05-26 13:15:32,376] Trial 288 finished with value: 0.7145389026354032 and parameters: {'metric': 'euclidean', 'kernel': 'epanechnikov', 'window': 'var', 'neighbours': 14}. Best is trial 31 with value: 0.7236852440988178.\n",
      "[I 2024-05-26 13:15:32,678] Trial 290 finished with value: 0.7236852440988178 and parameters: {'metric': 'euclidean', 'kernel': 'epanechnikov', 'window': 'var', 'neighbours': 15}. Best is trial 31 with value: 0.7236852440988178.\n",
      "[I 2024-05-26 13:15:32,678] Trial 287 finished with value: 0.7114901221475983 and parameters: {'metric': 'euclidean', 'kernel': 'epanechnikov', 'window': 'var', 'neighbours': 19}. Best is trial 31 with value: 0.7236852440988178.\n",
      "[I 2024-05-26 13:15:32,711] Trial 289 finished with value: 0.7053925611719886 and parameters: {'metric': 'euclidean', 'kernel': 'epanechnikov', 'window': 'var', 'neighbours': 11}. Best is trial 31 with value: 0.7236852440988178.\n",
      "[I 2024-05-26 13:15:33,653] Trial 291 finished with value: 0.7236852440988178 and parameters: {'metric': 'euclidean', 'kernel': 'epanechnikov', 'window': 'var', 'neighbours': 15}. Best is trial 31 with value: 0.7236852440988178.\n",
      "[I 2024-05-26 13:15:34,144] Trial 293 finished with value: 0.7236852440988178 and parameters: {'metric': 'euclidean', 'kernel': 'epanechnikov', 'window': 'var', 'neighbours': 15}. Best is trial 31 with value: 0.7236852440988178.\n",
      "[I 2024-05-26 13:15:34,339] Trial 292 finished with value: 0.7236852440988178 and parameters: {'metric': 'euclidean', 'kernel': 'epanechnikov', 'window': 'var', 'neighbours': 15}. Best is trial 31 with value: 0.7236852440988178.\n",
      "[I 2024-05-26 13:15:35,297] Trial 299 finished with value: 0.33147264443658925 and parameters: {'metric': 'euclidean', 'kernel': 'epanechnikov', 'window': 'fixed', 'radius': 0.7479074581654782}. Best is trial 31 with value: 0.7236852440988178.\n",
      "[I 2024-05-26 13:15:36,027] Trial 300 finished with value: 0.33147264443658925 and parameters: {'metric': 'euclidean', 'kernel': 'epanechnikov', 'window': 'fixed', 'radius': 0.7437812937548195}. Best is trial 31 with value: 0.7236852440988178.\n",
      "[I 2024-05-26 13:15:37,042] Trial 294 finished with value: 0.7236852440988178 and parameters: {'metric': 'euclidean', 'kernel': 'epanechnikov', 'window': 'var', 'neighbours': 15}. Best is trial 31 with value: 0.7236852440988178.\n",
      "[I 2024-05-26 13:15:38,173] Trial 295 finished with value: 0.7236852440988178 and parameters: {'metric': 'euclidean', 'kernel': 'epanechnikov', 'window': 'var', 'neighbours': 15}. Best is trial 31 with value: 0.7236852440988178.\n",
      "[I 2024-05-26 13:15:38,603] Trial 298 finished with value: 0.7236852440988178 and parameters: {'metric': 'euclidean', 'kernel': 'epanechnikov', 'window': 'var', 'neighbours': 15}. Best is trial 31 with value: 0.7236852440988178.\n",
      "[I 2024-05-26 13:15:38,639] Trial 297 finished with value: 0.7236852440988178 and parameters: {'metric': 'euclidean', 'kernel': 'epanechnikov', 'window': 'var', 'neighbours': 15}. Best is trial 31 with value: 0.7236852440988178.\n",
      "[I 2024-05-26 13:15:38,662] Trial 296 finished with value: 0.7236852440988178 and parameters: {'metric': 'euclidean', 'kernel': 'epanechnikov', 'window': 'var', 'neighbours': 15}. Best is trial 31 with value: 0.7236852440988178.\n",
      "[I 2024-05-26 13:15:40,332] Trial 302 finished with value: 0.7236852440988178 and parameters: {'metric': 'euclidean', 'kernel': 'epanechnikov', 'window': 'var', 'neighbours': 15}. Best is trial 31 with value: 0.7236852440988178.\n",
      "[I 2024-05-26 13:15:40,704] Trial 303 finished with value: 0.7236852440988178 and parameters: {'metric': 'euclidean', 'kernel': 'epanechnikov', 'window': 'var', 'neighbours': 15}. Best is trial 31 with value: 0.7236852440988178.\n",
      "[I 2024-05-26 13:15:40,715] Trial 301 finished with value: 0.5559974078001649 and parameters: {'metric': 'euclidean', 'kernel': 'uniform', 'window': 'var', 'neighbours': 15}. Best is trial 31 with value: 0.7236852440988178.\n",
      "[I 2024-05-26 13:15:41,944] Trial 304 finished with value: 0.7145389026354032 and parameters: {'metric': 'euclidean', 'kernel': 'epanechnikov', 'window': 'var', 'neighbours': 16}. Best is trial 31 with value: 0.7236852440988178.\n",
      "[I 2024-05-26 13:15:43,189] Trial 307 finished with value: 0.5390597384234712 and parameters: {'metric': 'euclidean', 'kernel': 'uniform', 'window': 'var', 'neighbours': 16}. Best is trial 31 with value: 0.7236852440988178.\n",
      "[I 2024-05-26 13:15:43,279] Trial 305 finished with value: 0.5390597384234712 and parameters: {'metric': 'euclidean', 'kernel': 'uniform', 'window': 'var', 'neighbours': 16}. Best is trial 31 with value: 0.7236852440988178.\n",
      "[I 2024-05-26 13:15:43,292] Trial 306 finished with value: 0.5390597384234712 and parameters: {'metric': 'euclidean', 'kernel': 'uniform', 'window': 'var', 'neighbours': 16}. Best is trial 31 with value: 0.7236852440988178.\n",
      "[I 2024-05-26 13:15:43,777] Trial 308 finished with value: 0.5390597384234712 and parameters: {'metric': 'euclidean', 'kernel': 'uniform', 'window': 'var', 'neighbours': 16}. Best is trial 31 with value: 0.7236852440988178.\n",
      "[I 2024-05-26 13:15:44,997] Trial 309 finished with value: 0.5390597384234712 and parameters: {'metric': 'euclidean', 'kernel': 'uniform', 'window': 'var', 'neighbours': 16}. Best is trial 31 with value: 0.7236852440988178.\n",
      "[I 2024-05-26 13:15:46,366] Trial 310 finished with value: 0.7145389026354032 and parameters: {'metric': 'euclidean', 'kernel': 'epanechnikov', 'window': 'var', 'neighbours': 16}. Best is trial 31 with value: 0.7236852440988178.\n",
      "[I 2024-05-26 13:15:46,745] Trial 311 finished with value: 0.7145389026354032 and parameters: {'metric': 'euclidean', 'kernel': 'epanechnikov', 'window': 'var', 'neighbours': 16}. Best is trial 31 with value: 0.7236852440988178.\n",
      "[I 2024-05-26 13:15:48,353] Trial 312 finished with value: 0.7145389026354032 and parameters: {'metric': 'euclidean', 'kernel': 'epanechnikov', 'window': 'var', 'neighbours': 16}. Best is trial 31 with value: 0.7236852440988178.\n",
      "[I 2024-05-26 13:15:49,397] Trial 313 finished with value: 0.7145389026354032 and parameters: {'metric': 'euclidean', 'kernel': 'epanechnikov', 'window': 'var', 'neighbours': 14}. Best is trial 31 with value: 0.7236852440988178.\n",
      "[I 2024-05-26 13:15:49,499] Trial 314 finished with value: 0.7145389026354032 and parameters: {'metric': 'euclidean', 'kernel': 'epanechnikov', 'window': 'var', 'neighbours': 14}. Best is trial 31 with value: 0.7236852440988178.\n",
      "[I 2024-05-26 13:15:49,814] Trial 315 finished with value: 0.7145389026354032 and parameters: {'metric': 'euclidean', 'kernel': 'epanechnikov', 'window': 'var', 'neighbours': 14}. Best is trial 31 with value: 0.7236852440988178.\n",
      "[I 2024-05-26 13:15:50,174] Trial 316 finished with value: 0.7145389026354032 and parameters: {'metric': 'euclidean', 'kernel': 'epanechnikov', 'window': 'var', 'neighbours': 14}. Best is trial 31 with value: 0.7236852440988178.\n",
      "[I 2024-05-26 13:15:51,670] Trial 317 finished with value: 0.7145389026354032 and parameters: {'metric': 'euclidean', 'kernel': 'epanechnikov', 'window': 'var', 'neighbours': 14}. Best is trial 31 with value: 0.7236852440988178.\n",
      "[I 2024-05-26 13:15:52,001] Trial 318 finished with value: 0.7145389026354032 and parameters: {'metric': 'euclidean', 'kernel': 'epanechnikov', 'window': 'var', 'neighbours': 14}. Best is trial 31 with value: 0.7236852440988178.\n",
      "[I 2024-05-26 13:15:52,753] Trial 319 finished with value: 0.7145389026354032 and parameters: {'metric': 'euclidean', 'kernel': 'epanechnikov', 'window': 'var', 'neighbours': 14}. Best is trial 31 with value: 0.7236852440988178.\n",
      "[I 2024-05-26 13:15:53,400] Trial 320 finished with value: 0.7145389026354032 and parameters: {'metric': 'euclidean', 'kernel': 'epanechnikov', 'window': 'var', 'neighbours': 14}. Best is trial 31 with value: 0.7236852440988178.\n",
      "[I 2024-05-26 13:15:53,915] Trial 321 finished with value: 0.6593761046306115 and parameters: {'metric': 'chebyshev', 'kernel': 'epanechnikov', 'window': 'var', 'neighbours': 15}. Best is trial 31 with value: 0.7236852440988178.\n",
      "[I 2024-05-26 13:15:54,042] Trial 323 finished with value: 0.6593761046306115 and parameters: {'metric': 'chebyshev', 'kernel': 'epanechnikov', 'window': 'var', 'neighbours': 15}. Best is trial 31 with value: 0.7236852440988178.\n",
      "[I 2024-05-26 13:15:54,779] Trial 322 finished with value: 0.6593761046306115 and parameters: {'metric': 'chebyshev', 'kernel': 'epanechnikov', 'window': 'var', 'neighbours': 15}. Best is trial 31 with value: 0.7236852440988178.\n",
      "[I 2024-05-26 13:15:58,948] Trial 324 finished with value: 0.7236852440988178 and parameters: {'metric': 'euclidean', 'kernel': 'epanechnikov', 'window': 'var', 'neighbours': 15}. Best is trial 31 with value: 0.7236852440988178.\n",
      "[I 2024-05-26 13:16:09,520] Trial 325 finished with value: 0.6593761046306115 and parameters: {'metric': 'chebyshev', 'kernel': 'epanechnikov', 'window': 'var', 'neighbours': 15}. Best is trial 31 with value: 0.7236852440988178.\n",
      "[I 2024-05-26 13:16:13,627] Trial 326 finished with value: 0.6593761046306115 and parameters: {'metric': 'chebyshev', 'kernel': 'epanechnikov', 'window': 'var', 'neighbours': 15}. Best is trial 31 with value: 0.7236852440988178.\n",
      "[I 2024-05-26 13:16:26,801] Trial 331 finished with value: 0.6962462197085739 and parameters: {'metric': 'euclidean', 'kernel': 'epanechnikov', 'window': 'var', 'neighbours': 10}. Best is trial 31 with value: 0.7236852440988178.\n",
      "[I 2024-05-26 13:16:27,485] Trial 329 finished with value: 0.7114901221475983 and parameters: {'metric': 'euclidean', 'kernel': 'epanechnikov', 'window': 'var', 'neighbours': 20}. Best is trial 31 with value: 0.7236852440988178.\n",
      "[I 2024-05-26 13:16:31,507] Trial 332 finished with value: 0.6529397902674678 and parameters: {'metric': 'euclidean', 'kernel': 'gaussian', 'window': 'var', 'neighbours': 15}. Best is trial 31 with value: 0.7236852440988178.\n",
      "[I 2024-05-26 13:16:41,043] Trial 337 finished with value: 0.2914702878912847 and parameters: {'metric': 'euclidean', 'kernel': 'epanechnikov', 'window': 'fixed', 'radius': 0.4737592911051387}. Best is trial 31 with value: 0.7236852440988178.\n",
      "[I 2024-05-26 13:17:01,804] Trial 327 finished with value: 0.6728427791524292 and parameters: {'metric': 'cosine', 'kernel': 'epanechnikov', 'window': 'var', 'neighbours': 15}. Best is trial 31 with value: 0.7236852440988178.\n",
      "[I 2024-05-26 13:17:09,112] Trial 328 finished with value: 0.6728427791524292 and parameters: {'metric': 'cosine', 'kernel': 'epanechnikov', 'window': 'var', 'neighbours': 15}. Best is trial 31 with value: 0.7236852440988178.\n",
      "[I 2024-05-26 13:17:10,223] Trial 333 finished with value: 0.6223390675935745 and parameters: {'metric': 'euclidean', 'kernel': 'gaussian', 'window': 'var', 'neighbours': 20}. Best is trial 31 with value: 0.7236852440988178.\n",
      "[I 2024-05-26 13:17:22,253] Trial 330 finished with value: 0.6406317505204038 and parameters: {'metric': 'cosine', 'kernel': 'gaussian', 'window': 'var', 'neighbours': 15}. Best is trial 31 with value: 0.7236852440988178.\n",
      "[I 2024-05-26 13:17:46,351] Trial 334 finished with value: 0.6728427791524292 and parameters: {'metric': 'cosine', 'kernel': 'epanechnikov', 'window': 'var', 'neighbours': 15}. Best is trial 31 with value: 0.7236852440988178.\n",
      "[I 2024-05-26 13:18:00,784] Trial 339 finished with value: 0.7236852440988178 and parameters: {'metric': 'euclidean', 'kernel': 'epanechnikov', 'window': 'var', 'neighbours': 15}. Best is trial 31 with value: 0.7236852440988178.\n",
      "[I 2024-05-26 13:18:00,786] Trial 340 finished with value: 0.7038117120301638 and parameters: {'metric': 'euclidean', 'kernel': 'epanechnikov', 'window': 'var', 'neighbours': 13}. Best is trial 31 with value: 0.7236852440988178.\n",
      "[I 2024-05-26 13:18:02,435] Trial 341 finished with value: 0.7175876831232081 and parameters: {'metric': 'euclidean', 'kernel': 'epanechnikov', 'window': 'var', 'neighbours': 17}. Best is trial 31 with value: 0.7236852440988178.\n",
      "[I 2024-05-26 13:18:03,059] Trial 336 finished with value: 0.6406317505204038 and parameters: {'metric': 'cosine', 'kernel': 'gaussian', 'window': 'var', 'neighbours': 15}. Best is trial 31 with value: 0.7236852440988178.\n",
      "[I 2024-05-26 13:18:06,825] Trial 342 finished with value: 0.7236852440988178 and parameters: {'metric': 'euclidean', 'kernel': 'epanechnikov', 'window': 'var', 'neighbours': 15}. Best is trial 31 with value: 0.7236852440988178.\n",
      "[I 2024-05-26 13:18:08,675] Trial 335 finished with value: 0.674423628294254 and parameters: {'metric': 'cosine', 'kernel': 'epanechnikov', 'window': 'var', 'neighbours': 20}. Best is trial 31 with value: 0.7236852440988178.\n",
      "[I 2024-05-26 13:18:15,592] Trial 343 finished with value: 0.7038117120301638 and parameters: {'metric': 'euclidean', 'kernel': 'epanechnikov', 'window': 'var', 'neighbours': 13}. Best is trial 31 with value: 0.7236852440988178.\n",
      "[I 2024-05-26 13:18:16,486] Trial 338 finished with value: 0.6728427791524292 and parameters: {'metric': 'cosine', 'kernel': 'epanechnikov', 'window': 'var', 'neighbours': 15}. Best is trial 31 with value: 0.7236852440988178.\n",
      "[I 2024-05-26 13:18:17,066] Trial 347 finished with value: 0.7236852440988178 and parameters: {'metric': 'euclidean', 'kernel': 'epanechnikov', 'window': 'var', 'neighbours': 15}. Best is trial 31 with value: 0.7236852440988178.\n",
      "[I 2024-05-26 13:18:17,424] Trial 346 finished with value: 0.7236852440988178 and parameters: {'metric': 'euclidean', 'kernel': 'epanechnikov', 'window': 'var', 'neighbours': 15}. Best is trial 31 with value: 0.7236852440988178.\n",
      "[I 2024-05-26 13:18:17,599] Trial 345 finished with value: 0.7236852440988178 and parameters: {'metric': 'euclidean', 'kernel': 'epanechnikov', 'window': 'var', 'neighbours': 15}. Best is trial 31 with value: 0.7236852440988178.\n",
      "[I 2024-05-26 13:18:17,738] Trial 344 finished with value: 0.7236852440988178 and parameters: {'metric': 'euclidean', 'kernel': 'epanechnikov', 'window': 'var', 'neighbours': 15}. Best is trial 31 with value: 0.7236852440988178.\n",
      "[I 2024-05-26 13:18:18,341] Trial 348 finished with value: 0.7145389026354032 and parameters: {'metric': 'euclidean', 'kernel': 'epanechnikov', 'window': 'var', 'neighbours': 16}. Best is trial 31 with value: 0.7236852440988178.\n",
      "[I 2024-05-26 13:18:18,624] Trial 349 finished with value: 0.7145389026354032 and parameters: {'metric': 'euclidean', 'kernel': 'epanechnikov', 'window': 'var', 'neighbours': 16}. Best is trial 31 with value: 0.7236852440988178.\n",
      "[I 2024-05-26 13:18:21,139] Trial 351 finished with value: 0.7145389026354032 and parameters: {'metric': 'euclidean', 'kernel': 'epanechnikov', 'window': 'var', 'neighbours': 16}. Best is trial 31 with value: 0.7236852440988178.\n",
      "[I 2024-05-26 13:18:21,212] Trial 350 finished with value: 0.7145389026354032 and parameters: {'metric': 'euclidean', 'kernel': 'epanechnikov', 'window': 'var', 'neighbours': 16}. Best is trial 31 with value: 0.7236852440988178.\n",
      "[I 2024-05-26 13:18:21,727] Trial 352 finished with value: 0.7145389026354032 and parameters: {'metric': 'euclidean', 'kernel': 'epanechnikov', 'window': 'var', 'neighbours': 16}. Best is trial 31 with value: 0.7236852440988178.\n",
      "[I 2024-05-26 13:18:23,682] Trial 359 finished with value: 0.4579160284356467 and parameters: {'metric': 'euclidean', 'kernel': 'epanechnikov', 'window': 'fixed', 'radius': 1.6037754440364678}. Best is trial 31 with value: 0.7236852440988178.\n",
      "[I 2024-05-26 13:18:23,682] Trial 353 finished with value: 0.7145389026354032 and parameters: {'metric': 'euclidean', 'kernel': 'epanechnikov', 'window': 'var', 'neighbours': 16}. Best is trial 31 with value: 0.7236852440988178.\n",
      "[I 2024-05-26 13:18:23,692] Trial 358 finished with value: 0.4579160284356467 and parameters: {'metric': 'euclidean', 'kernel': 'epanechnikov', 'window': 'fixed', 'radius': 1.6142840799713531}. Best is trial 31 with value: 0.7236852440988178.\n",
      "[I 2024-05-26 13:18:24,136] Trial 355 finished with value: 0.7145389026354032 and parameters: {'metric': 'euclidean', 'kernel': 'epanechnikov', 'window': 'var', 'neighbours': 16}. Best is trial 31 with value: 0.7236852440988178.\n",
      "[I 2024-05-26 13:18:24,213] Trial 354 finished with value: 0.7145389026354032 and parameters: {'metric': 'euclidean', 'kernel': 'epanechnikov', 'window': 'var', 'neighbours': 16}. Best is trial 31 with value: 0.7236852440988178.\n",
      "[I 2024-05-26 13:18:24,560] Trial 357 finished with value: 0.7145389026354032 and parameters: {'metric': 'euclidean', 'kernel': 'epanechnikov', 'window': 'var', 'neighbours': 16}. Best is trial 31 with value: 0.7236852440988178.\n",
      "[I 2024-05-26 13:18:24,682] Trial 356 finished with value: 0.7145389026354032 and parameters: {'metric': 'euclidean', 'kernel': 'epanechnikov', 'window': 'var', 'neighbours': 16}. Best is trial 31 with value: 0.7236852440988178.\n",
      "[I 2024-05-26 13:18:27,547] Trial 360 finished with value: 0.7145389026354032 and parameters: {'metric': 'euclidean', 'kernel': 'epanechnikov', 'window': 'var', 'neighbours': 14}. Best is trial 31 with value: 0.7236852440988178.\n",
      "[I 2024-05-26 13:18:28,272] Trial 362 finished with value: 0.7145389026354032 and parameters: {'metric': 'euclidean', 'kernel': 'epanechnikov', 'window': 'var', 'neighbours': 14}. Best is trial 31 with value: 0.7236852440988178.\n",
      "[I 2024-05-26 13:18:28,550] Trial 361 finished with value: 0.7145389026354032 and parameters: {'metric': 'euclidean', 'kernel': 'epanechnikov', 'window': 'var', 'neighbours': 14}. Best is trial 31 with value: 0.7236852440988178.\n",
      "[I 2024-05-26 13:18:28,630] Trial 364 finished with value: 0.7145389026354032 and parameters: {'metric': 'euclidean', 'kernel': 'epanechnikov', 'window': 'var', 'neighbours': 14}. Best is trial 31 with value: 0.7236852440988178.\n",
      "[I 2024-05-26 13:18:28,900] Trial 363 finished with value: 0.7145389026354032 and parameters: {'metric': 'euclidean', 'kernel': 'epanechnikov', 'window': 'var', 'neighbours': 14}. Best is trial 31 with value: 0.7236852440988178.\n",
      "[I 2024-05-26 13:18:28,943] Trial 365 finished with value: 0.7145389026354032 and parameters: {'metric': 'euclidean', 'kernel': 'epanechnikov', 'window': 'var', 'neighbours': 14}. Best is trial 31 with value: 0.7236852440988178.\n",
      "[I 2024-05-26 13:18:29,317] Trial 366 finished with value: 0.7145389026354032 and parameters: {'metric': 'euclidean', 'kernel': 'epanechnikov', 'window': 'var', 'neighbours': 14}. Best is trial 31 with value: 0.7236852440988178.\n",
      "[I 2024-05-26 13:18:29,318] Trial 367 finished with value: 0.7145389026354032 and parameters: {'metric': 'euclidean', 'kernel': 'epanechnikov', 'window': 'var', 'neighbours': 14}. Best is trial 31 with value: 0.7236852440988178.\n",
      "[I 2024-05-26 13:18:32,353] Trial 368 finished with value: 0.7145389026354032 and parameters: {'metric': 'euclidean', 'kernel': 'epanechnikov', 'window': 'var', 'neighbours': 14}. Best is trial 31 with value: 0.7236852440988178.\n",
      "[I 2024-05-26 13:18:32,970] Trial 369 finished with value: 0.7236852440988178 and parameters: {'metric': 'euclidean', 'kernel': 'epanechnikov', 'window': 'var', 'neighbours': 15}. Best is trial 31 with value: 0.7236852440988178.\n",
      "[I 2024-05-26 13:18:33,252] Trial 372 finished with value: 0.7236852440988178 and parameters: {'metric': 'euclidean', 'kernel': 'epanechnikov', 'window': 'var', 'neighbours': 15}. Best is trial 31 with value: 0.7236852440988178.\n",
      "[I 2024-05-26 13:18:33,311] Trial 370 finished with value: 0.7236852440988178 and parameters: {'metric': 'euclidean', 'kernel': 'epanechnikov', 'window': 'var', 'neighbours': 15}. Best is trial 31 with value: 0.7236852440988178.\n",
      "[I 2024-05-26 13:18:33,620] Trial 371 finished with value: 0.7236852440988178 and parameters: {'metric': 'euclidean', 'kernel': 'epanechnikov', 'window': 'var', 'neighbours': 15}. Best is trial 31 with value: 0.7236852440988178.\n",
      "[I 2024-05-26 13:18:33,898] Trial 373 finished with value: 0.7236852440988178 and parameters: {'metric': 'euclidean', 'kernel': 'epanechnikov', 'window': 'var', 'neighbours': 15}. Best is trial 31 with value: 0.7236852440988178.\n",
      "[I 2024-05-26 13:18:33,991] Trial 374 finished with value: 0.7236852440988178 and parameters: {'metric': 'euclidean', 'kernel': 'epanechnikov', 'window': 'var', 'neighbours': 15}. Best is trial 31 with value: 0.7236852440988178.\n",
      "[I 2024-05-26 13:18:34,089] Trial 375 finished with value: 0.7236852440988178 and parameters: {'metric': 'euclidean', 'kernel': 'epanechnikov', 'window': 'var', 'neighbours': 15}. Best is trial 31 with value: 0.7236852440988178.\n",
      "[I 2024-05-26 13:18:37,154] Trial 376 finished with value: 0.7236852440988178 and parameters: {'metric': 'euclidean', 'kernel': 'epanechnikov', 'window': 'var', 'neighbours': 15}. Best is trial 31 with value: 0.7236852440988178.\n",
      "[I 2024-05-26 13:18:37,746] Trial 378 finished with value: 0.7236852440988178 and parameters: {'metric': 'euclidean', 'kernel': 'epanechnikov', 'window': 'var', 'neighbours': 15}. Best is trial 31 with value: 0.7236852440988178.\n",
      "[I 2024-05-26 13:18:38,249] Trial 377 finished with value: 0.7236852440988178 and parameters: {'metric': 'euclidean', 'kernel': 'epanechnikov', 'window': 'var', 'neighbours': 15}. Best is trial 31 with value: 0.7236852440988178.\n",
      "[I 2024-05-26 13:18:38,566] Trial 379 finished with value: 0.7236852440988178 and parameters: {'metric': 'euclidean', 'kernel': 'epanechnikov', 'window': 'var', 'neighbours': 15}. Best is trial 31 with value: 0.7236852440988178.\n",
      "[I 2024-05-26 13:18:38,881] Trial 380 finished with value: 0.7236852440988178 and parameters: {'metric': 'euclidean', 'kernel': 'epanechnikov', 'window': 'var', 'neighbours': 15}. Best is trial 31 with value: 0.7236852440988178.\n",
      "[I 2024-05-26 13:18:38,982] Trial 382 finished with value: 0.7236852440988178 and parameters: {'metric': 'euclidean', 'kernel': 'epanechnikov', 'window': 'var', 'neighbours': 15}. Best is trial 31 with value: 0.7236852440988178.\n",
      "[I 2024-05-26 13:18:39,156] Trial 383 finished with value: 0.7236852440988178 and parameters: {'metric': 'euclidean', 'kernel': 'epanechnikov', 'window': 'var', 'neighbours': 15}. Best is trial 31 with value: 0.7236852440988178.\n",
      "[I 2024-05-26 13:18:39,223] Trial 381 finished with value: 0.7236852440988178 and parameters: {'metric': 'euclidean', 'kernel': 'epanechnikov', 'window': 'var', 'neighbours': 15}. Best is trial 31 with value: 0.7236852440988178.\n",
      "[I 2024-05-26 13:18:41,929] Trial 384 finished with value: 0.7236852440988178 and parameters: {'metric': 'euclidean', 'kernel': 'epanechnikov', 'window': 'var', 'neighbours': 15}. Best is trial 31 with value: 0.7236852440988178.\n",
      "[I 2024-05-26 13:18:42,506] Trial 385 finished with value: 0.7236852440988178 and parameters: {'metric': 'euclidean', 'kernel': 'epanechnikov', 'window': 'var', 'neighbours': 15}. Best is trial 31 with value: 0.7236852440988178.\n",
      "[I 2024-05-26 13:18:43,033] Trial 386 finished with value: 0.7236852440988178 and parameters: {'metric': 'euclidean', 'kernel': 'epanechnikov', 'window': 'var', 'neighbours': 15}. Best is trial 31 with value: 0.7236852440988178.\n",
      "[I 2024-05-26 13:18:43,200] Trial 387 finished with value: 0.7236852440988178 and parameters: {'metric': 'euclidean', 'kernel': 'epanechnikov', 'window': 'var', 'neighbours': 15}. Best is trial 31 with value: 0.7236852440988178.\n",
      "[I 2024-05-26 13:18:44,162] Trial 395 finished with value: 0.25914634146341464 and parameters: {'metric': 'euclidean', 'kernel': 'epanechnikov', 'window': 'fixed', 'radius': 0.2879138460137254}. Best is trial 31 with value: 0.7236852440988178.\n",
      "[I 2024-05-26 13:18:44,272] Trial 391 finished with value: 0.7145389026354032 and parameters: {'metric': 'euclidean', 'kernel': 'triangular', 'window': 'var', 'neighbours': 15}. Best is trial 31 with value: 0.7236852440988178.\n",
      "[I 2024-05-26 13:18:44,368] Trial 389 finished with value: 0.7145389026354032 and parameters: {'metric': 'euclidean', 'kernel': 'triangular', 'window': 'var', 'neighbours': 15}. Best is trial 31 with value: 0.7236852440988178.\n",
      "[I 2024-05-26 13:18:44,508] Trial 388 finished with value: 0.7145389026354032 and parameters: {'metric': 'euclidean', 'kernel': 'triangular', 'window': 'var', 'neighbours': 15}. Best is trial 31 with value: 0.7236852440988178.\n",
      "[I 2024-05-26 13:18:44,678] Trial 390 finished with value: 0.7145389026354032 and parameters: {'metric': 'euclidean', 'kernel': 'triangular', 'window': 'var', 'neighbours': 15}. Best is trial 31 with value: 0.7236852440988178.\n",
      "[I 2024-05-26 13:18:46,927] Trial 392 finished with value: 0.7145389026354032 and parameters: {'metric': 'euclidean', 'kernel': 'triangular', 'window': 'var', 'neighbours': 15}. Best is trial 31 with value: 0.7236852440988178.\n",
      "[I 2024-05-26 13:18:47,550] Trial 393 finished with value: 0.7145389026354032 and parameters: {'metric': 'euclidean', 'kernel': 'triangular', 'window': 'var', 'neighbours': 17}. Best is trial 31 with value: 0.7236852440988178.\n",
      "[I 2024-05-26 13:18:47,859] Trial 394 finished with value: 0.6870998782451593 and parameters: {'metric': 'euclidean', 'kernel': 'epanechnikov', 'window': 'var', 'neighbours': 9}. Best is trial 31 with value: 0.7236852440988178.\n",
      "[I 2024-05-26 13:18:48,304] Trial 396 finished with value: 0.7145389026354032 and parameters: {'metric': 'euclidean', 'kernel': 'epanechnikov', 'window': 'var', 'neighbours': 16}. Best is trial 31 with value: 0.7236852440988178.\n",
      "[I 2024-05-26 13:18:48,381] Trial 399 finished with value: 0.7145389026354032 and parameters: {'metric': 'euclidean', 'kernel': 'epanechnikov', 'window': 'var', 'neighbours': 16}. Best is trial 31 with value: 0.7236852440988178.\n",
      "[I 2024-05-26 13:18:48,471] Trial 398 finished with value: 0.7175876831232081 and parameters: {'metric': 'euclidean', 'kernel': 'epanechnikov', 'window': 'var', 'neighbours': 17}. Best is trial 31 with value: 0.7236852440988178.\n",
      "[I 2024-05-26 13:18:48,532] Trial 397 finished with value: 0.7145389026354032 and parameters: {'metric': 'euclidean', 'kernel': 'epanechnikov', 'window': 'var', 'neighbours': 16}. Best is trial 31 with value: 0.7236852440988178.\n"
     ]
    }
   ],
   "source": [
    "def objective(trial: op.Trial):\n",
    "    metr = trial.suggest_categorical('metric', metrics_map.keys())\n",
    "    metr = metrics_map[metr]\n",
    "\n",
    "    kern = trial.suggest_categorical('kernel', kernels_map.keys())\n",
    "    kern = kernels_map[kern]\n",
    "\n",
    "    wind = trial.suggest_categorical('window', windows)\n",
    "\n",
    "    x_train, x_test, Y_train, Y_test = train_test_split(X_train, y_train, test_size=0.25, random_state=42)\n",
    "\n",
    "    KNN_model = MyKNeighborsClassifier(metr, wind)\n",
    "    KNN_model.fit(x_train, Y_train)\n",
    "\n",
    "    match wind:\n",
    "        case 'var':\n",
    "            k = trial.suggest_int('neighbours', 2, 20)\n",
    "            yhat = KNN_model.predict(x_test, kern, k_neighbours=k)\n",
    "        case 'fixed':\n",
    "            h = trial.suggest_float('radius', 1e-3, 2)\n",
    "            yhat = KNN_model.predict(x_test, kern, radius=h)\n",
    "        case _:\n",
    "            raise RuntimeError\n",
    "\n",
    "    return balanced_accuracy_score(Y_test, yhat)\n",
    "\n",
    "\n",
    "study = op.create_study(direction='maximize')\n",
    "study.optimize(objective, n_trials=100, n_jobs=-1, catch=RuntimeError, gc_after_trial=True, show_progress_bar=False)\n",
    "\n",
    "window = study.best_params['window']\n",
    "metric = metrics_map[study.best_params['metric']]\n",
    "kernel = kernels_map[study.best_params['kernel']]"
   ],
   "metadata": {
    "collapsed": false,
    "ExecuteTime": {
     "end_time": "2024-03-12T18:43:34.209862470Z",
     "start_time": "2024-03-12T18:43:34.207192901Z"
    }
   },
   "id": "468b504c18b59b2d",
   "execution_count": 11
  },
  {
   "cell_type": "markdown",
   "source": [
    "### Best hyperparameters"
   ],
   "metadata": {
    "collapsed": false
   }
  },
  {
   "cell_type": "code",
   "execution_count": 12,
   "outputs": [
    {
     "name": "stdout",
     "output_type": "stream",
     "text": [
      "Best window: var\n",
      "Best metric: euclidean\n",
      "Best kernel: epanechnikov\n"
     ]
    }
   ],
   "source": [
    "print('Best window:', window)\n",
    "print('Best metric:', study.best_params['metric'])\n",
    "print('Best kernel:', study.best_params['kernel'])"
   ],
   "metadata": {
    "collapsed": false
   }
  },
  {
   "cell_type": "markdown",
   "source": [
    "## Different K comparison"
   ],
   "metadata": {
    "collapsed": false
   }
  },
  {
   "cell_type": "code",
   "execution_count": 13,
   "outputs": [],
   "source": [
    "def get_accuracy_by_k(K: int,\n",
    "                      metr: callable,\n",
    "                      kern: callable,\n",
    "                      wind: str):\n",
    "    train_ac = np.zeros(K - 1)\n",
    "    test_ac = np.zeros(K - 1)\n",
    "\n",
    "    KNN_model = MyKNeighborsClassifier(metr=metr, wind=wind)\n",
    "    KNN_model.fit(X_train, y_train)\n",
    "\n",
    "    for k in range(1, K):\n",
    "        yhat = KNN_model.predict(X_train, kern, k_neighbours=k)\n",
    "        train_ac[k - 1] = balanced_accuracy_score(y_train, yhat)\n",
    "\n",
    "        yhat = KNN_model.predict(X_test, kern, k_neighbours=k)\n",
    "        test_ac[k - 1] = balanced_accuracy_score(y_test, yhat)\n",
    "\n",
    "    return train_ac, test_ac\n",
    "\n",
    "def get_accuracy_by_radius(K: int,\n",
    "                      metr: callable,\n",
    "                      kern: callable,\n",
    "                      wind: str):\n",
    "    train_ac = np.zeros(K - 1)\n",
    "    test_ac = np.zeros(K - 1)\n",
    "\n",
    "    KNN_model = MyKNeighborsClassifier(metr=metr, wind=wind)\n",
    "    KNN_model.fit(X_train, y_train)\n",
    "\n",
    "    for k in range(1, K):\n",
    "        rad = 0.7 + 0.05 * k\n",
    "        yhat = KNN_model.predict(X_train, kern, radius=rad)\n",
    "        train_ac[k - 1] = balanced_accuracy_score(y_train, yhat)\n",
    "\n",
    "        yhat = KNN_model.predict(X_test, kern, radius=rad)\n",
    "        test_ac[k - 1] = balanced_accuracy_score(y_test, yhat)\n",
    "\n",
    "    return train_ac, test_ac"
   ],
   "metadata": {
    "collapsed": false
   }
  },
  {
   "cell_type": "code",
   "execution_count": 14,
   "outputs": [],
   "source": [
    "max_k = 20\n",
    "if window == 'var':\n",
    "    train_accuracy, test_accuracy = get_accuracy_by_k(max_k, metric, kernel, window)\n",
    "else:\n",
    "    train_accuracy, test_accuracy = get_accuracy_by_radius(max_k, metric, kernel, window)"
   ],
   "metadata": {
    "collapsed": false
   }
  },
  {
   "cell_type": "code",
   "execution_count": 15,
   "outputs": [
    {
     "data": {
      "text/plain": "<Figure size 640x480 with 1 Axes>",
      "image/png": "[encoded data removed]"
     },
     "metadata": {},
     "output_type": "display_data"
    }
   ],
   "source": [
    "accuracy_plot(range(1, max_k), train_accuracy, test_accuracy)"
   ],
   "metadata": {
    "collapsed": false
   }
  },
  {
   "cell_type": "markdown",
   "source": [
    "## Anomaly detection with LOWESS"
   ],
   "metadata": {
    "collapsed": false
   },
   "id": "a94bfed031aa7fc0"
  },
  {
   "cell_type": "code",
   "execution_count": 16,
   "outputs": [
    {
     "name": "stdout",
     "output_type": "stream",
     "text": [
      "Ones 0.7064075630252101\n",
      "Gaussian 0.7064075630252101\n",
      "Uniform 0.6665791316526611\n"
     ]
    }
   ],
   "source": [
    "def low(metr: callable,\n",
    "        kern: callable,\n",
    "        wind: str):\n",
    "    model = MyKNeighborsClassifier(metr=metr, wind=wind)\n",
    "    weights = []\n",
    "    for i in range(len(X_train)):\n",
    "        x_train = np.delete(X_train, i, axis=0)\n",
    "        Y_train = np.delete(y_train, i, axis=0)\n",
    "        model.fit(x_train, Y_train)\n",
    "\n",
    "        model.forecast(X_train[i], kern, k_neighbours=12)\n",
    "        weight = model.get_probability(y_train[i])\n",
    "        weights.append(weight)\n",
    "\n",
    "    model.fit(X_train, y_train)\n",
    "    yhat = model.predict(X_test, kern, k_neighbours=12)\n",
    "    print(\"Ones\", balanced_accuracy_score(y_test, yhat))\n",
    "    yhat = model.predict(X_test, kern, k_neighbours=12, wghts=gaussian(np.array(weights)))\n",
    "    print(\"Gaussian\", balanced_accuracy_score(y_test, yhat))\n",
    "    yhat = model.predict(X_test, kern, k_neighbours=12, wghts=uniform(np.array(weights)))\n",
    "    print(\"Uniform\", balanced_accuracy_score(y_test, yhat))\n",
    "\n",
    "\n",
    "low(metric, kernel, window)"
   ],
   "metadata": {
    "collapsed": false
   }
  },
  {
   "cell_type": "markdown",
   "source": [
    "# K-Nearest Neighbours Classifier from sklearn library"
   ],
   "metadata": {
    "collapsed": false
   },
   "id": "4d86232e85316534"
  },
  {
   "cell_type": "markdown",
   "source": [
    "## Hyperparameters optimization"
   ],
   "metadata": {
    "collapsed": false
   }
  },
  {
   "cell_type": "code",
   "outputs": [
    {
     "name": "stderr",
     "output_type": "stream",
     "text": [
      "[I 2024-05-26 13:21:28,361] A new study created in memory with name: no-name-fad46a5f-7454-4c67-9b3e-def5d325e0a1\n",
      "[I 2024-05-26 13:22:04,243] Trial 0 finished with value: 0.5500962255999372 and parameters: {'metric': 'chebyshev', 'neighbour': 9}. Best is trial 0 with value: 0.5500962255999372.\n",
      "[I 2024-05-26 13:22:04,384] Trial 2 finished with value: 0.6249901810612308 and parameters: {'metric': 'cosine', 'neighbour': 2}. Best is trial 2 with value: 0.6249901810612308.\n",
      "[I 2024-05-26 13:22:04,391] Trial 7 finished with value: 0.567991241506618 and parameters: {'metric': 'chebyshev', 'neighbour': 5}. Best is trial 2 with value: 0.6249901810612308.\n",
      "[I 2024-05-26 13:22:04,474] Trial 3 finished with value: 0.5989356270374298 and parameters: {'metric': 'cosine', 'neighbour': 20}. Best is trial 2 with value: 0.6249901810612308.\n",
      "[I 2024-05-26 13:22:04,679] Trial 5 finished with value: 0.515651388397942 and parameters: {'metric': 'chebyshev', 'neighbour': 16}. Best is trial 2 with value: 0.6249901810612308.\n",
      "[I 2024-05-26 13:22:04,692] Trial 4 finished with value: 0.5941047091630336 and parameters: {'metric': 'chebyshev', 'neighbour': 4}. Best is trial 2 with value: 0.6249901810612308.\n",
      "[I 2024-05-26 13:22:05,016] Trial 1 finished with value: 0.5880071481874238 and parameters: {'metric': 'chebyshev', 'neighbour': 2}. Best is trial 2 with value: 0.6249901810612308.\n",
      "[I 2024-05-26 13:22:05,135] Trial 6 finished with value: 0.4833274419700719 and parameters: {'metric': 'chebyshev', 'neighbour': 17}. Best is trial 2 with value: 0.6249901810612308.\n",
      "[I 2024-05-26 13:22:09,828] Trial 8 finished with value: 0.6666028435646676 and parameters: {'metric': 'euclidean', 'neighbour': 13}. Best is trial 8 with value: 0.6666028435646676.\n",
      "[I 2024-05-26 13:22:25,651] Trial 9 finished with value: 0.44651624052472405 and parameters: {'metric': 'chebyshev', 'neighbour': 19}. Best is trial 8 with value: 0.6666028435646676.\n",
      "[I 2024-05-26 13:22:25,726] Trial 10 finished with value: 0.6666028435646676 and parameters: {'metric': 'euclidean', 'neighbour': 13}. Best is trial 8 with value: 0.6666028435646676.\n",
      "[I 2024-05-26 13:22:25,727] Trial 13 finished with value: 0.6511576528808766 and parameters: {'metric': 'chebyshev', 'neighbour': 3}. Best is trial 8 with value: 0.6666028435646676.\n",
      "[I 2024-05-26 13:22:25,796] Trial 11 finished with value: 0.64698460390401 and parameters: {'metric': 'euclidean', 'neighbour': 5}. Best is trial 8 with value: 0.6666028435646676.\n",
      "[I 2024-05-26 13:22:26,001] Trial 12 finished with value: 0.5773928753780291 and parameters: {'metric': 'chebyshev', 'neighbour': 8}. Best is trial 8 with value: 0.6666028435646676.\n",
      "[I 2024-05-26 13:22:27,690] Trial 16 finished with value: 0.5711823966065748 and parameters: {'metric': 'chebyshev', 'neighbour': 7}. Best is trial 8 with value: 0.6666028435646676.\n",
      "[I 2024-05-26 13:22:28,157] Trial 15 finished with value: 0.6499204665959704 and parameters: {'metric': 'cosine', 'neighbour': 9}. Best is trial 8 with value: 0.6666028435646676.\n",
      "[I 2024-05-26 13:22:28,163] Trial 14 finished with value: 0.6299045599151644 and parameters: {'metric': 'euclidean', 'neighbour': 17}. Best is trial 8 with value: 0.6666028435646676.\n",
      "[I 2024-05-26 13:22:29,918] Trial 20 finished with value: 0.6556203605514316 and parameters: {'metric': 'euclidean', 'neighbour': 12}. Best is trial 8 with value: 0.6666028435646676.\n",
      "[I 2024-05-26 13:22:29,921] Trial 17 finished with value: 0.6499204665959702 and parameters: {'metric': 'euclidean', 'neighbour': 11}. Best is trial 8 with value: 0.6666028435646676.\n",
      "[I 2024-05-26 13:22:30,253] Trial 18 finished with value: 0.6556203605514316 and parameters: {'metric': 'euclidean', 'neighbour': 12}. Best is trial 8 with value: 0.6666028435646676.\n",
      "[I 2024-05-26 13:22:30,278] Trial 19 finished with value: 0.6556203605514316 and parameters: {'metric': 'euclidean', 'neighbour': 12}. Best is trial 8 with value: 0.6666028435646676.\n",
      "[I 2024-05-26 13:22:30,457] Trial 21 finished with value: 0.6666028435646676 and parameters: {'metric': 'euclidean', 'neighbour': 13}. Best is trial 8 with value: 0.6666028435646676.\n",
      "[I 2024-05-26 13:22:32,002] Trial 22 finished with value: 0.6556203605514316 and parameters: {'metric': 'euclidean', 'neighbour': 12}. Best is trial 8 with value: 0.6666028435646676.\n",
      "[I 2024-05-26 13:22:32,065] Trial 24 finished with value: 0.6556203605514316 and parameters: {'metric': 'euclidean', 'neighbour': 12}. Best is trial 8 with value: 0.6666028435646676.\n",
      "[I 2024-05-26 13:22:32,403] Trial 23 finished with value: 0.6666028435646676 and parameters: {'metric': 'euclidean', 'neighbour': 13}. Best is trial 8 with value: 0.6666028435646676.\n",
      "[I 2024-05-26 13:22:33,727] Trial 25 finished with value: 0.6666028435646676 and parameters: {'metric': 'euclidean', 'neighbour': 13}. Best is trial 8 with value: 0.6666028435646676.\n",
      "[I 2024-05-26 13:22:34,000] Trial 26 finished with value: 0.6556203605514316 and parameters: {'metric': 'euclidean', 'neighbour': 14}. Best is trial 8 with value: 0.6666028435646676.\n",
      "[I 2024-05-26 13:22:34,167] Trial 28 finished with value: 0.6556203605514316 and parameters: {'metric': 'euclidean', 'neighbour': 14}. Best is trial 8 with value: 0.6666028435646676.\n",
      "[I 2024-05-26 13:22:34,685] Trial 27 finished with value: 0.6556203605514316 and parameters: {'metric': 'euclidean', 'neighbour': 14}. Best is trial 8 with value: 0.6666028435646676.\n",
      "[I 2024-05-26 13:22:34,935] Trial 29 finished with value: 0.6556203605514316 and parameters: {'metric': 'euclidean', 'neighbour': 14}. Best is trial 8 with value: 0.6666028435646676.\n",
      "[I 2024-05-26 13:22:36,039] Trial 30 finished with value: 0.6126821413141668 and parameters: {'metric': 'euclidean', 'neighbour': 15}. Best is trial 8 with value: 0.6666028435646676.\n",
      "[I 2024-05-26 13:22:50,476] Trial 32 finished with value: 0.6126821413141668 and parameters: {'metric': 'euclidean', 'neighbour': 15}. Best is trial 8 with value: 0.6666028435646676.\n",
      "[I 2024-05-26 13:22:50,647] Trial 31 finished with value: 0.6126821413141668 and parameters: {'metric': 'euclidean', 'neighbour': 15}. Best is trial 8 with value: 0.6666028435646676.\n",
      "[I 2024-05-26 13:22:51,160] Trial 33 finished with value: 0.6126821413141668 and parameters: {'metric': 'euclidean', 'neighbour': 15}. Best is trial 8 with value: 0.6666028435646676.\n",
      "[I 2024-05-26 13:23:51,537] Trial 35 finished with value: 0.6126821413141668 and parameters: {'metric': 'euclidean', 'neighbour': 15}. Best is trial 8 with value: 0.6666028435646676.\n",
      "[I 2024-05-26 13:23:58,132] Trial 34 finished with value: 0.6126821413141668 and parameters: {'metric': 'euclidean', 'neighbour': 15}. Best is trial 8 with value: 0.6666028435646676.\n",
      "[I 2024-05-26 13:24:02,712] Trial 37 finished with value: 0.6542948038176033 and parameters: {'metric': 'cosine', 'neighbour': 10}. Best is trial 8 with value: 0.6666028435646676.\n",
      "[I 2024-05-26 13:24:03,794] Trial 39 finished with value: 0.6542948038176033 and parameters: {'metric': 'cosine', 'neighbour': 10}. Best is trial 8 with value: 0.6666028435646676.\n",
      "[I 2024-05-26 13:24:03,972] Trial 36 finished with value: 0.6542948038176033 and parameters: {'metric': 'cosine', 'neighbour': 10}. Best is trial 8 with value: 0.6666028435646676.\n",
      "[I 2024-05-26 13:24:04,729] Trial 40 finished with value: 0.6542948038176033 and parameters: {'metric': 'cosine', 'neighbour': 10}. Best is trial 8 with value: 0.6666028435646676.\n",
      "[I 2024-05-26 13:24:10,978] Trial 38 finished with value: 0.6483101606378383 and parameters: {'metric': 'euclidean', 'neighbour': 10}. Best is trial 8 with value: 0.6666028435646676.\n",
      "[I 2024-05-26 13:24:27,779] Trial 41 finished with value: 0.6542948038176033 and parameters: {'metric': 'cosine', 'neighbour': 10}. Best is trial 8 with value: 0.6666028435646676.\n",
      "[I 2024-05-26 13:24:52,490] Trial 42 finished with value: 0.6862505400416323 and parameters: {'metric': 'cosine', 'neighbour': 11}. Best is trial 42 with value: 0.6862505400416323.\n",
      "[I 2024-05-26 13:24:53,909] Trial 45 finished with value: 0.6129668905384706 and parameters: {'metric': 'euclidean', 'neighbour': 18}. Best is trial 42 with value: 0.6862505400416323.\n",
      "[I 2024-05-26 13:25:04,254] Trial 44 finished with value: 0.6542948038176033 and parameters: {'metric': 'cosine', 'neighbour': 10}. Best is trial 42 with value: 0.6862505400416323.\n",
      "[I 2024-05-26 13:25:05,953] Trial 47 finished with value: 0.6098051922548211 and parameters: {'metric': 'euclidean', 'neighbour': 19}. Best is trial 42 with value: 0.6862505400416323.\n",
      "[I 2024-05-26 13:25:05,958] Trial 43 finished with value: 0.6542948038176033 and parameters: {'metric': 'cosine', 'neighbour': 10}. Best is trial 42 with value: 0.6862505400416323.\n",
      "[I 2024-05-26 13:25:05,970] Trial 48 finished with value: 0.6666028435646676 and parameters: {'metric': 'euclidean', 'neighbour': 13}. Best is trial 42 with value: 0.6862505400416323.\n",
      "[I 2024-05-26 13:25:05,975] Trial 49 finished with value: 0.6666028435646676 and parameters: {'metric': 'euclidean', 'neighbour': 13}. Best is trial 42 with value: 0.6862505400416323.\n",
      "[I 2024-05-26 13:25:06,888] Trial 46 finished with value: 0.6129668905384706 and parameters: {'metric': 'euclidean', 'neighbour': 18}. Best is trial 42 with value: 0.6862505400416323.\n",
      "[I 2024-05-26 13:25:25,784] Trial 54 finished with value: 0.5773928753780291 and parameters: {'metric': 'chebyshev', 'neighbour': 8}. Best is trial 42 with value: 0.6862505400416323.\n",
      "[I 2024-05-26 13:25:25,865] Trial 52 finished with value: 0.5711823966065748 and parameters: {'metric': 'chebyshev', 'neighbour': 7}. Best is trial 42 with value: 0.6862505400416323.\n",
      "[I 2024-05-26 13:25:32,131] Trial 53 finished with value: 0.5773928753780291 and parameters: {'metric': 'chebyshev', 'neighbour': 8}. Best is trial 42 with value: 0.6862505400416323.\n",
      "[I 2024-05-26 13:25:35,160] Trial 50 finished with value: 0.6328109657908173 and parameters: {'metric': 'cosine', 'neighbour': 13}. Best is trial 42 with value: 0.6862505400416323.\n",
      "[I 2024-05-26 13:25:35,979] Trial 57 finished with value: 0.5773928753780291 and parameters: {'metric': 'chebyshev', 'neighbour': 8}. Best is trial 42 with value: 0.6862505400416323.\n",
      "[I 2024-05-26 13:25:36,084] Trial 55 finished with value: 0.5434880798083342 and parameters: {'metric': 'chebyshev', 'neighbour': 11}. Best is trial 42 with value: 0.6862505400416323.\n",
      "[I 2024-05-26 13:25:36,236] Trial 51 finished with value: 0.6328109657908173 and parameters: {'metric': 'cosine', 'neighbour': 13}. Best is trial 42 with value: 0.6862505400416323.\n",
      "[I 2024-05-26 13:25:36,408] Trial 56 finished with value: 0.5773928753780291 and parameters: {'metric': 'chebyshev', 'neighbour': 8}. Best is trial 42 with value: 0.6862505400416323.\n",
      "[I 2024-05-26 13:25:36,894] Trial 58 finished with value: 0.6666028435646676 and parameters: {'metric': 'euclidean', 'neighbour': 13}. Best is trial 42 with value: 0.6862505400416323.\n",
      "[I 2024-05-26 13:25:37,301] Trial 59 finished with value: 0.6666028435646676 and parameters: {'metric': 'euclidean', 'neighbour': 13}. Best is trial 42 with value: 0.6862505400416323.\n",
      "[I 2024-05-26 13:25:37,495] Trial 60 finished with value: 0.6666028435646676 and parameters: {'metric': 'euclidean', 'neighbour': 13}. Best is trial 42 with value: 0.6862505400416323.\n",
      "[I 2024-05-26 13:25:38,867] Trial 61 finished with value: 0.6499204665959702 and parameters: {'metric': 'euclidean', 'neighbour': 11}. Best is trial 42 with value: 0.6862505400416323.\n",
      "[I 2024-05-26 13:25:40,361] Trial 62 finished with value: 0.6499204665959702 and parameters: {'metric': 'euclidean', 'neighbour': 11}. Best is trial 42 with value: 0.6862505400416323.\n",
      "[I 2024-05-26 13:25:40,557] Trial 63 finished with value: 0.6499204665959702 and parameters: {'metric': 'euclidean', 'neighbour': 11}. Best is trial 42 with value: 0.6862505400416323.\n",
      "[I 2024-05-26 13:25:40,620] Trial 65 finished with value: 0.6499204665959702 and parameters: {'metric': 'euclidean', 'neighbour': 11}. Best is trial 42 with value: 0.6862505400416323.\n",
      "[I 2024-05-26 13:25:40,869] Trial 64 finished with value: 0.6499204665959702 and parameters: {'metric': 'euclidean', 'neighbour': 11}. Best is trial 42 with value: 0.6862505400416323.\n",
      "[I 2024-05-26 13:25:41,215] Trial 66 finished with value: 0.6050037311967322 and parameters: {'metric': 'euclidean', 'neighbour': 16}. Best is trial 42 with value: 0.6862505400416323.\n",
      "[I 2024-05-26 13:25:42,126] Trial 68 finished with value: 0.6499204665959702 and parameters: {'metric': 'euclidean', 'neighbour': 11}. Best is trial 42 with value: 0.6862505400416323.\n",
      "[I 2024-05-26 13:25:42,212] Trial 67 finished with value: 0.6499204665959702 and parameters: {'metric': 'euclidean', 'neighbour': 11}. Best is trial 42 with value: 0.6862505400416323.\n",
      "[I 2024-05-26 13:25:42,496] Trial 69 finished with value: 0.6556203605514316 and parameters: {'metric': 'euclidean', 'neighbour': 12}. Best is trial 42 with value: 0.6862505400416323.\n",
      "[I 2024-05-26 13:25:44,387] Trial 70 finished with value: 0.6050037311967322 and parameters: {'metric': 'euclidean', 'neighbour': 16}. Best is trial 42 with value: 0.6862505400416323.\n",
      "[I 2024-05-26 13:25:44,689] Trial 72 finished with value: 0.6556203605514316 and parameters: {'metric': 'euclidean', 'neighbour': 12}. Best is trial 42 with value: 0.6862505400416323.\n",
      "[I 2024-05-26 13:25:44,838] Trial 74 finished with value: 0.6556203605514316 and parameters: {'metric': 'euclidean', 'neighbour': 12}. Best is trial 42 with value: 0.6862505400416323.\n",
      "[I 2024-05-26 13:25:44,927] Trial 71 finished with value: 0.6050037311967322 and parameters: {'metric': 'euclidean', 'neighbour': 16}. Best is trial 42 with value: 0.6862505400416323.\n",
      "[I 2024-05-26 13:25:44,998] Trial 73 finished with value: 0.6050037311967322 and parameters: {'metric': 'euclidean', 'neighbour': 16}. Best is trial 42 with value: 0.6862505400416323.\n",
      "[I 2024-05-26 13:25:46,510] Trial 75 finished with value: 0.6556203605514316 and parameters: {'metric': 'euclidean', 'neighbour': 12}. Best is trial 42 with value: 0.6862505400416323.\n",
      "[I 2024-05-26 13:25:46,941] Trial 77 finished with value: 0.6050037311967322 and parameters: {'metric': 'euclidean', 'neighbour': 16}. Best is trial 42 with value: 0.6862505400416323.\n",
      "[I 2024-05-26 13:25:47,545] Trial 76 finished with value: 0.6556203605514316 and parameters: {'metric': 'euclidean', 'neighbour': 14}. Best is trial 42 with value: 0.6862505400416323.\n",
      "[I 2024-05-26 13:25:50,634] Trial 79 finished with value: 0.6556203605514316 and parameters: {'metric': 'euclidean', 'neighbour': 14}. Best is trial 42 with value: 0.6862505400416323.\n",
      "[I 2024-05-26 13:25:52,454] Trial 78 finished with value: 0.6556203605514316 and parameters: {'metric': 'euclidean', 'neighbour': 14}. Best is trial 42 with value: 0.6862505400416323.\n",
      "[I 2024-05-26 13:25:55,614] Trial 81 finished with value: 0.6556203605514316 and parameters: {'metric': 'euclidean', 'neighbour': 14}. Best is trial 42 with value: 0.6862505400416323.\n",
      "[I 2024-05-26 13:25:55,666] Trial 82 finished with value: 0.6556203605514316 and parameters: {'metric': 'euclidean', 'neighbour': 14}. Best is trial 42 with value: 0.6862505400416323.\n",
      "[I 2024-05-26 13:25:55,973] Trial 80 finished with value: 0.6556203605514316 and parameters: {'metric': 'euclidean', 'neighbour': 14}. Best is trial 42 with value: 0.6862505400416323.\n",
      "[I 2024-05-26 13:25:58,200] Trial 83 finished with value: 0.6556203605514316 and parameters: {'metric': 'euclidean', 'neighbour': 14}. Best is trial 42 with value: 0.6862505400416323.\n",
      "[I 2024-05-26 13:25:59,728] Trial 84 finished with value: 0.6556203605514316 and parameters: {'metric': 'euclidean', 'neighbour': 14}. Best is trial 42 with value: 0.6862505400416323.\n",
      "[I 2024-05-26 13:27:58,494] Trial 89 finished with value: 0.6328109657908173 and parameters: {'metric': 'cosine', 'neighbour': 13}. Best is trial 42 with value: 0.6862505400416323.\n",
      "[I 2024-05-26 13:27:59,062] Trial 85 finished with value: 0.6175670633517929 and parameters: {'metric': 'cosine', 'neighbour': 14}. Best is trial 42 with value: 0.6862505400416323.\n",
      "[I 2024-05-26 13:27:59,806] Trial 86 finished with value: 0.6328109657908173 and parameters: {'metric': 'cosine', 'neighbour': 13}. Best is trial 42 with value: 0.6862505400416323.\n",
      "[I 2024-05-26 13:28:00,568] Trial 91 finished with value: 0.6328109657908173 and parameters: {'metric': 'cosine', 'neighbour': 13}. Best is trial 42 with value: 0.6862505400416323.\n",
      "[I 2024-05-26 13:28:09,606] Trial 88 finished with value: 0.6328109657908173 and parameters: {'metric': 'cosine', 'neighbour': 13}. Best is trial 42 with value: 0.6862505400416323.\n",
      "[I 2024-05-26 13:28:09,761] Trial 90 finished with value: 0.6328109657908173 and parameters: {'metric': 'cosine', 'neighbour': 13}. Best is trial 42 with value: 0.6862505400416323.\n",
      "[I 2024-05-26 13:28:18,887] Trial 87 finished with value: 0.6328109657908173 and parameters: {'metric': 'cosine', 'neighbour': 13}. Best is trial 42 with value: 0.6862505400416323.\n",
      "[I 2024-05-26 13:28:25,948] Trial 92 finished with value: 0.6328109657908173 and parameters: {'metric': 'cosine', 'neighbour': 13}. Best is trial 42 with value: 0.6862505400416323.\n",
      "[I 2024-05-26 13:28:28,445] Trial 95 finished with value: 0.649891009779663 and parameters: {'metric': 'euclidean', 'neighbour': 9}. Best is trial 42 with value: 0.6862505400416323.\n",
      "[I 2024-05-26 13:28:28,454] Trial 94 finished with value: 0.6666028435646676 and parameters: {'metric': 'euclidean', 'neighbour': 13}. Best is trial 42 with value: 0.6862505400416323.\n",
      "[I 2024-05-26 13:28:29,270] Trial 96 finished with value: 0.649891009779663 and parameters: {'metric': 'euclidean', 'neighbour': 9}. Best is trial 42 with value: 0.6862505400416323.\n",
      "[I 2024-05-26 13:28:29,308] Trial 93 finished with value: 0.6328109657908173 and parameters: {'metric': 'cosine', 'neighbour': 13}. Best is trial 42 with value: 0.6862505400416323.\n",
      "[I 2024-05-26 13:28:29,340] Trial 97 finished with value: 0.6556203605514316 and parameters: {'metric': 'euclidean', 'neighbour': 12}. Best is trial 42 with value: 0.6862505400416323.\n",
      "[I 2024-05-26 13:28:29,832] Trial 98 finished with value: 0.6556203605514316 and parameters: {'metric': 'euclidean', 'neighbour': 12}. Best is trial 42 with value: 0.6862505400416323.\n",
      "[I 2024-05-26 13:28:29,832] Trial 99 finished with value: 0.6556203605514316 and parameters: {'metric': 'euclidean', 'neighbour': 12}. Best is trial 42 with value: 0.6862505400416323.\n"
     ]
    }
   ],
   "source": [
    "def objective2(trial: op.Trial):\n",
    "    metr = trial.suggest_categorical('metric', metrics_map.keys())\n",
    "    metr = metrics_map[metr]\n",
    "\n",
    "    k = trial.suggest_int('neighbour', 2, 20)\n",
    "\n",
    "    x_train, x_test, Y_train, Y_test = train_test_split(X_train, y_train, test_size=0.25, random_state=42)\n",
    "\n",
    "    KNN_model = KNeighborsClassifier(n_neighbors=k, metric=metr)\n",
    "    KNN_model.fit(x_train, Y_train)\n",
    "\n",
    "    yhat = KNN_model.predict(x_test)\n",
    "    return balanced_accuracy_score(Y_test, yhat)\n",
    "\n",
    "\n",
    "study = op.create_study(direction='maximize')\n",
    "study.optimize(objective2, n_trials=100, n_jobs=-1, catch=RuntimeError, gc_after_trial=True, show_progress_bar=False)\n",
    "\n",
    "metric = metrics_map[study.best_params['metric']]"
   ],
   "metadata": {
    "collapsed": false,
    "ExecuteTime": {
     "end_time": "2024-03-12T18:43:40.511602048Z",
     "start_time": "2024-03-12T18:43:40.506822210Z"
    }
   },
   "id": "b9393264c5affedd",
   "execution_count": 18
  },
  {
   "cell_type": "markdown",
   "source": [
    "### Best hyperparameters"
   ],
   "metadata": {
    "collapsed": false
   }
  },
  {
   "cell_type": "code",
   "execution_count": 20,
   "outputs": [
    {
     "name": "stdout",
     "output_type": "stream",
     "text": [
      "Best metric: cosine\n"
     ]
    }
   ],
   "source": [
    "print('Best metric:', study.best_params['metric'])"
   ],
   "metadata": {
    "collapsed": false
   }
  },
  {
   "cell_type": "markdown",
   "source": [
    "## Different K comparison"
   ],
   "metadata": {
    "collapsed": false
   }
  },
  {
   "cell_type": "code",
   "outputs": [],
   "source": [
    "def get_accuracy_for_range(K: int,\n",
    "                           metr: callable):\n",
    "    train_ac = np.zeros(K - 1)\n",
    "    test_ac = np.zeros(K - 1)\n",
    "\n",
    "    for k in range(1, K):\n",
    "        KNN_model = KNeighborsClassifier(metric=metr, n_neighbors=k)\n",
    "        KNN_model.fit(X_train, y_train)\n",
    "\n",
    "        yhat = KNN_model.predict(X_train)\n",
    "        train_ac[k - 1] = balanced_accuracy_score(y_train, yhat)\n",
    "\n",
    "        yhat = KNN_model.predict(X_test)\n",
    "        test_ac[k - 1] = balanced_accuracy_score(y_test, yhat)\n",
    "\n",
    "    return train_ac, test_ac\n",
    "\n",
    "\n",
    "max_k = 20\n",
    "train_accuracy, test_accuracy = get_accuracy_for_range(max_k, metric)"
   ],
   "metadata": {
    "collapsed": false,
    "ExecuteTime": {
     "end_time": "2024-03-12T18:43:44.911571506Z",
     "start_time": "2024-03-12T18:43:40.520979304Z"
    }
   },
   "id": "cc62ff8ec47d2c26",
   "execution_count": 21
  },
  {
   "cell_type": "code",
   "execution_count": 22,
   "outputs": [
    {
     "data": {
      "text/plain": "<Figure size 640x480 with 1 Axes>",
      "image/png": "[encoded data removed]"
     },
     "metadata": {},
     "output_type": "display_data"
    }
   ],
   "source": [
    "accuracy_plot(range(1, max_k), train_accuracy, test_accuracy)"
   ],
   "metadata": {
    "collapsed": false
   }
  },
  {
   "cell_type": "markdown",
   "source": [
    "## Anomaly detection with LOWESS"
   ],
   "metadata": {
    "collapsed": false
   }
  },
  {
   "cell_type": "code",
   "outputs": [
    {
     "name": "stdout",
     "output_type": "stream",
     "text": [
      "Ones 0.6576505602240896\n"
     ]
    }
   ],
   "source": [
    "def low2(best_metric):\n",
    "    model = KNeighborsClassifier(n_neighbors=12, metric=best_metric)\n",
    "    weights = []\n",
    "    min_class = np.unique(y_train)[0]\n",
    "    for i in range(len(X_train)):\n",
    "        x_train = np.delete(X_train, i, axis=0)\n",
    "        Y_train = np.delete(y_train, i, axis=0)\n",
    "        model.fit(x_train, Y_train)\n",
    "\n",
    "        yhat = model.predict_proba([X_train[i]])[0]\n",
    "        weight = yhat[y_train[i] - min_class]\n",
    "        weights.append(weight)\n",
    "    model.fit(X_train, y_train)\n",
    "    yhat = model.predict(X_test)\n",
    "    print(\"Ones\", balanced_accuracy_score(y_test, yhat))\n",
    "\n",
    "\n",
    "low2(metric)"
   ],
   "metadata": {
    "collapsed": false,
    "ExecuteTime": {
     "end_time": "2024-03-12T18:43:45.485341905Z",
     "start_time": "2024-03-12T18:43:44.913275794Z"
    }
   },
   "id": "29c2186bf420a557",
   "execution_count": 24
  }
 ],
 "metadata": {
  "kernelspec": {
   "display_name": "Python 3",
   "language": "python",
   "name": "python3"
  },
  "language_info": {
   "codemirror_mode": {
    "name": "ipython",
    "version": 2
   },
   "file_extension": ".py",
   "mimetype": "text/x-python",
   "name": "python",
   "nbconvert_exporter": "python",
   "pygments_lexer": "ipython2",
   "version": "2.7.6"
  }
 },
 "nbformat": 4,
 "nbformat_minor": 5
}
